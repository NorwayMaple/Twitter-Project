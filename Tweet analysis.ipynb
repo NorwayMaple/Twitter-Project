{
 "cells": [
  {
   "cell_type": "code",
   "execution_count": 1,
   "metadata": {
    "collapsed": true
   },
   "outputs": [],
   "source": [
    "#Find a way to save the tweet to disk\n",
    "\n",
    "import json\n",
    "import oauth2 as oauth\n",
    "import os\n",
    "import emoji as emo\n",
    "import urllib.parse as parse\n",
    "import csv\n",
    "from sklearn.feature_extraction.text import CountVectorizer\n",
    "from stemming.porter2 import stem\n",
    "from string import punctuation\n",
    "import numpy\n",
    "import pymongo\n",
    "import re\n",
    "import unicodedata"
   ]
  },
  {
   "cell_type": "code",
   "execution_count": 2,
   "metadata": {
    "collapsed": false
   },
   "outputs": [],
   "source": [
    "#This function will use an online ready-made dictionary to find the sentiment of an emoji\n",
    "\n",
    "#load csv info into dictionary\n",
    "emoji_scores = {}\n",
    "with open('Emoji_Sentiment_Data_v1.0.csv', newline = '') as emoji_csv:\n",
    "    emoji_reader = csv.reader(emoji_csv)\n",
    "    next(emoji_reader, None)\n",
    "    for row in emoji_reader:\n",
    "        emoji = row[0]\n",
    "        neg_score = float(int(row[4])/int(row[2]))\n",
    "        neut_score = float(int(row[5])/int(row[2]))\n",
    "        pos_score = float(int(row[6])/int(row[2]))\n",
    "        sent_score = (-1 * neg_score + pos_score) - .305\n",
    "        emoji_scores[emoji] = sent_score\n",
    "        \n",
    "#print(emoji_scores)\n",
    "        "
   ]
  },
  {
   "cell_type": "code",
   "execution_count": 3,
   "metadata": {
    "collapsed": false
   },
   "outputs": [
    {
     "ename": "ValueError",
     "evalue": "Key and secret must be set.",
     "output_type": "error",
     "traceback": [
      "\u001b[0;31m---------------------------------------------------------------------------\u001b[0m",
      "\u001b[0;31mValueError\u001b[0m                                Traceback (most recent call last)",
      "\u001b[0;32m<ipython-input-3-5d8a71b47c64>\u001b[0m in \u001b[0;36m<module>\u001b[0;34m()\u001b[0m\n\u001b[1;32m      5\u001b[0m \u001b[0maccess_token_secret\u001b[0m \u001b[0;34m=\u001b[0m \u001b[0mos\u001b[0m\u001b[0;34m.\u001b[0m\u001b[0menviron\u001b[0m\u001b[0;34m.\u001b[0m\u001b[0mget\u001b[0m\u001b[0;34m(\u001b[0m\u001b[0;34m'ACCESS_TOKEN_SECRET'\u001b[0m\u001b[0;34m)\u001b[0m\u001b[0;34m\u001b[0m\u001b[0m\n\u001b[1;32m      6\u001b[0m \u001b[0;34m\u001b[0m\u001b[0m\n\u001b[0;32m----> 7\u001b[0;31m \u001b[0mconsumer\u001b[0m \u001b[0;34m=\u001b[0m \u001b[0moauth\u001b[0m\u001b[0;34m.\u001b[0m\u001b[0mConsumer\u001b[0m\u001b[0;34m(\u001b[0m\u001b[0mkey\u001b[0m\u001b[0;34m=\u001b[0m\u001b[0mconsumer_key\u001b[0m\u001b[0;34m,\u001b[0m \u001b[0msecret\u001b[0m\u001b[0;34m=\u001b[0m\u001b[0mconsumer_secret\u001b[0m\u001b[0;34m)\u001b[0m\u001b[0;34m\u001b[0m\u001b[0m\n\u001b[0m\u001b[1;32m      8\u001b[0m \u001b[0maccess_token\u001b[0m \u001b[0;34m=\u001b[0m \u001b[0moauth\u001b[0m\u001b[0;34m.\u001b[0m\u001b[0mToken\u001b[0m\u001b[0;34m(\u001b[0m\u001b[0mkey\u001b[0m\u001b[0;34m=\u001b[0m\u001b[0maccess_token\u001b[0m\u001b[0;34m,\u001b[0m \u001b[0msecret\u001b[0m\u001b[0;34m=\u001b[0m\u001b[0maccess_token_secret\u001b[0m\u001b[0;34m)\u001b[0m\u001b[0;34m\u001b[0m\u001b[0m\n\u001b[1;32m      9\u001b[0m \u001b[0mclient\u001b[0m \u001b[0;34m=\u001b[0m \u001b[0moauth\u001b[0m\u001b[0;34m.\u001b[0m\u001b[0mClient\u001b[0m\u001b[0;34m(\u001b[0m\u001b[0mconsumer\u001b[0m\u001b[0;34m,\u001b[0m \u001b[0maccess_token\u001b[0m\u001b[0;34m)\u001b[0m\u001b[0;34m\u001b[0m\u001b[0m\n",
      "\u001b[0;32m/Users/Abe/anaconda3/lib/python3.6/site-packages/oauth2/__init__.py\u001b[0m in \u001b[0;36m__init__\u001b[0;34m(self, key, secret)\u001b[0m\n\u001b[1;32m    207\u001b[0m \u001b[0;34m\u001b[0m\u001b[0m\n\u001b[1;32m    208\u001b[0m         \u001b[0;32mif\u001b[0m \u001b[0mself\u001b[0m\u001b[0;34m.\u001b[0m\u001b[0mkey\u001b[0m \u001b[0;32mis\u001b[0m \u001b[0;32mNone\u001b[0m \u001b[0;32mor\u001b[0m \u001b[0mself\u001b[0m\u001b[0;34m.\u001b[0m\u001b[0msecret\u001b[0m \u001b[0;32mis\u001b[0m \u001b[0;32mNone\u001b[0m\u001b[0;34m:\u001b[0m\u001b[0;34m\u001b[0m\u001b[0m\n\u001b[0;32m--> 209\u001b[0;31m             \u001b[0;32mraise\u001b[0m \u001b[0mValueError\u001b[0m\u001b[0;34m(\u001b[0m\u001b[0;34m\"Key and secret must be set.\"\u001b[0m\u001b[0;34m)\u001b[0m\u001b[0;34m\u001b[0m\u001b[0m\n\u001b[0m\u001b[1;32m    210\u001b[0m \u001b[0;34m\u001b[0m\u001b[0m\n\u001b[1;32m    211\u001b[0m     \u001b[0;32mdef\u001b[0m \u001b[0m__str__\u001b[0m\u001b[0;34m(\u001b[0m\u001b[0mself\u001b[0m\u001b[0;34m)\u001b[0m\u001b[0;34m:\u001b[0m\u001b[0;34m\u001b[0m\u001b[0m\n",
      "\u001b[0;31mValueError\u001b[0m: Key and secret must be set."
     ]
    }
   ],
   "source": [
    "consumer_key = os.environ.get('CONSUMER_KEY')\n",
    "consumer_secret = os.environ.get('CONSUMER_SECRET')\n",
    "\n",
    "access_token = os.environ.get('ACCESS_TOKEN')\n",
    "access_token_secret = os.environ.get('ACCESS_TOKEN_SECRET')\n",
    "\n",
    "consumer = oauth.Consumer(key=consumer_key, secret=consumer_secret)\n",
    "access_token = oauth.Token(key=access_token, secret=access_token_secret)\n",
    "client = oauth.Client(consumer, access_token)\n",
    "\n",
    "\n",
    "\n",
    "emo_tweets = {}\n",
    "for i in range(0, 10):\n",
    "    params = {'q' : 'Justin Bieber', 'count' : 100, 'lang' : 'en'}\n",
    "    # See Twitter Search API documenation for description of cursoring for below if block\n",
    "    if i > 0:\n",
    "        params['max_id'] = max_id \n",
    "    timeline_endpoint_baseuri = 'https://api.twitter.com/1.1/search/tweets.json?'\n",
    "    timeline_endpoint = timeline_endpoint_baseuri + parse.urlencode(params)\n",
    "    print(timeline_endpoint)\n",
    "    response, data = client.request(timeline_endpoint)\n",
    "    tweets_results = json.loads(data)\n",
    "    tweets_list = tweets_results['statuses']\n",
    "    max_id = tweets_list[len(tweets_list) - 1]['id'] - 1\n",
    "    for tweet in tweets_list:\n",
    "        tweet_emojis = []\n",
    "        for char in tweet['text']:\n",
    "            if char in emo.UNICODE_EMOJI:\n",
    "                tweet_emojis.append(char)\n",
    "        if tweet_emojis:\n",
    "            for emoji in tweet_emojis:\n",
    "                tweet_emoji_scores = []\n",
    "                try:\n",
    "                    tweet_emoji_scores.append(emoji_scores[emoji])\n",
    "                except KeyError as e:\n",
    "                    print('No emoji %s' % e)\n",
    "                    continue\n",
    "            if tweet_emoji_scores:\n",
    "                if max(tweet_emoji_scores) == max(numpy.absolute(tweet_emoji_scores)):\n",
    "                    tweet_score = max(tweet_emoji_scores)\n",
    "                else:\n",
    "                    tweet_score = min(tweet_emoji_scores)\n",
    "                emo_tweets[tweet['id']] = [tweet['text'], tweet_score]\n",
    "    print('Emoji tweets processed: ' + str(len(emo_tweets.keys())))\n",
    "            \n",
    "\n",
    "for tweet in emo_tweets.values():\n",
    "    print(tweet)\n",
    "    print()"
   ]
  },
  {
   "cell_type": "code",
   "execution_count": 4,
   "metadata": {
    "collapsed": false
   },
   "outputs": [
    {
     "name": "stdout",
     "output_type": "stream",
     "text": [
      "No emoji score for '🤷'\n",
      "No emoji score for '🏻'\n",
      "No emoji score for '🤣'\n",
      "No emoji score for '🗣'\n",
      "No emoji score for '🏽'\n",
      "No emoji score for '🏾'\n",
      "No emoji score for '🤙'\n",
      "No emoji score for '🏼'\n",
      "No emoji score for '🤷'\n",
      "No emoji score for '🏾'\n",
      "No emoji score for '🗣'\n",
      "No emoji score for '🤦'\n",
      "No emoji score for '🏽'\n",
      "No emoji score for '🙂'\n",
      "No emoji score for '🏾'\n",
      "No emoji score for '🙄'\n",
      "No emoji score for '🤗'\n",
      "No emoji score for '🖤'\n",
      "No emoji score for '🏽'\n",
      "No emoji score for '🏽'\n",
      "No emoji score for '🤔'\n",
      "No emoji score for '🤣'\n",
      "No emoji score for '🏽'\n",
      "No emoji score for '🤷'\n",
      "No emoji score for '🏽'\n",
      "No emoji score for '🏻'\n",
      "No emoji score for '🏻'\n",
      "No emoji score for '🏻'\n",
      "No emoji score for '🤦'\n",
      "No emoji score for '🏽'\n",
      "No emoji score for '🥘'\n",
      "No emoji score for '🤷'\n",
      "No emoji score for '🏽'\n",
      "No emoji score for '🥘'\n",
      "No emoji score for '🏻'\n",
      "No emoji score for '🏻'\n",
      "No emoji score for '🏻'\n",
      "No emoji score for '🏽'\n",
      "No emoji score for '🤷'\n",
      "No emoji score for '🏿'\n",
      "No emoji score for '🏾'\n",
      "No emoji score for '🤦'\n",
      "No emoji score for '🏾'\n",
      "No emoji score for '🤷'\n",
      "No emoji score for '🏻'\n",
      "No emoji score for '🤗'\n",
      "No emoji score for '🤦'\n",
      "No emoji score for '🏾'\n",
      "No emoji score for '🙁'\n",
      "No emoji score for '🤦'\n",
      "No emoji score for '🏾'\n",
      "No emoji score for '⁉'\n",
      "No emoji score for '🤣'\n",
      "No emoji score for '🤣'\n",
      "No emoji score for '🤣'\n",
      "No emoji score for '🙄'\n",
      "No emoji score for '🌬'\n",
      "No emoji score for '🌪'\n",
      "No emoji score for '🤦'\n",
      "No emoji score for '🏻'\n",
      "No emoji score for '🤣'\n",
      "No emoji score for '🤣'\n",
      "No emoji score for '🤣'\n",
      "No emoji score for '🤣'\n",
      "No emoji score for '🤣'\n",
      "No emoji score for '🤣'\n",
      "No emoji score for '🤣'\n",
      "No emoji score for '🤣'\n",
      "No emoji score for '🤣'\n",
      "No emoji score for '🤣'\n",
      "No emoji score for '🤣'\n",
      "No emoji score for '🤣'\n",
      "No emoji score for '🤣'\n",
      "No emoji score for '🤣'\n",
      "No emoji score for '🤣'\n",
      "No emoji score for '🤣'\n",
      "No emoji score for '🤣'\n",
      "No emoji score for '🤣'\n",
      "No emoji score for '🤣'\n",
      "No emoji score for '🤣'\n",
      "No emoji score for '🤣'\n",
      "No emoji score for '🤣'\n",
      "No emoji score for '🤣'\n",
      "No emoji score for '🤣'\n",
      "No emoji score for '🤣'\n",
      "No emoji score for '🙃'\n",
      "No emoji score for '🤗'\n",
      "No emoji score for '🏽'\n",
      "No emoji score for '🤦'\n",
      "No emoji score for '🏽'\n",
      "No emoji score for '🏾'\n",
      "No emoji score for '🤷'\n",
      "No emoji score for '🏾'\n",
      "No emoji score for '🤗'\n",
      "No emoji score for '⛰'\n",
      "[['Very good point by colin 🤷🏻\\u200d♂️ https://t.co/Wgp0Y5pFfL', -0.10499999999999998], ['@JordanSweeto You can DM me and we can become best friends because I have none. ☺️', 0.3530989330746847], ['RT @Queen_nyasia: ion have friends or none of that 💯.', -0.1841208791208791], ['RT @iamtxmtxm: I KENNAT 💕💕💕 https://t.co/Bd2Fy0t4qP', 0.3279166666666667], ['RT @iamtxmtxm: I KENNAT 💕💕💕 https://t.co/Bd2Fy0t4qP', 0.3279166666666667], ['RT @iamtxmtxm: I KENNAT 💕💕💕 https://t.co/Bd2Fy0t4qP', 0.3279166666666667], ['RT @IssaaaBie: Yoongi stop being so adorable alongside my forvever baby, lifetime bias hoseokie ♡😍😭 https://t.co/G1PrFTsASZ', 0.37293678251297374], ['RT @IssaaaBie: Yoongi stop being so adorable alongside my forvever baby, lifetime bias hoseokie ♡😍😭 https://t.co/G1PrFTsASZ', -0.3983767643865364], ['RT @dinesh_dezzy01: None could do justice to that phrase other than @aditiraohydari 😍 #FalwlessFace https://t.co/uJKbvasNqy', 0.37293678251297374], ['RT @softiedanny: Me none stop since it got released👌 @AdoreDelano https://t.co/1m1TSELZ4F', 0.2587606837606838], [\"@_Short_Round_ Ain't nothing juicy about my fucked up love life 🤣💔 it's none-existent\", -0.4269512195121951], ['RT @Ayourb: None of the above, it is called \"taking\"... 😂😂😂 https://t.co/dNMdqirDW7', -0.08403159622486661], ['RT @Ayourb: None of the above, it is called \"taking\"... 😂😂😂 https://t.co/dNMdqirDW7', -0.08403159622486661], ['RT @Ayourb: None of the above, it is called \"taking\"... 😂😂😂 https://t.co/dNMdqirDW7', -0.08403159622486661], [\"None of y'all wished me happy birthday and I'm still alive 😤 https://t.co/mvTtYgDgFP\", -0.5160091743119266], [\"RT @Daisey_o: Them girls who like all your boyfriends selfies but like none of your couple pics ? I've blocked many over it 😂😭 sly as fuck\", -0.08403159622486661], [\"RT @Daisey_o: Them girls who like all your boyfriends selfies but like none of your couple pics ? I've blocked many over it 😂😭 sly as fuck\", -0.3983767643865364], [\"Lmfaoo nah I want his dick none else 😂😂 I been acting bad it's going turn to a yes before the night https://t.co/CswgWGI7L2\", -0.08403159622486661], [\"Lmfaoo nah I want his dick none else 😂😂 I been acting bad it's going turn to a yes before the night https://t.co/CswgWGI7L2\", -0.08403159622486661], ['thats why i have none 😂 https://t.co/OvNtMiYEo9', -0.08403159622486661], ['RT @deeroldrick: #SELU need to offer \"Jociology\", none of us would be on probation 😂', -0.08403159622486661], ['@KissMYBlahhhhh Bxtch I be wanting one when I get off from work. Ion got none 😂', -0.08403159622486661], ['RT @PandaExpress: Don’t be on the outside always looking in… 🐼 ❤️ https://t.co/9gNpjBJBw7', -0.032272727272727286], ['RT @PandaExpress: Don’t be on the outside always looking in… 🐼 ❤️ https://t.co/9gNpjBJBw7', 0.4410869565217392], ['papaw * 😭😪 https://t.co/E8aWbSTzpf', -0.3983767643865364], ['papaw * 😭😪 https://t.co/E8aWbSTzpf', -0.38591286307053946], ['💁🏽 https://t.co/y44vuz0Zwo', 0.02286885245901643], ['Except me and sis @Xiobaabyy 💪🏾😘😈 https://t.co/d3FVqOXr7d', 0.25071327182398856], ['Except me and sis @Xiobaabyy 💪🏾😘😈 https://t.co/d3FVqOXr7d', 0.39675438596491236], ['Except me and sis @Xiobaabyy 💪🏾😘😈 https://t.co/d3FVqOXr7d', -0.03730769230769232], ['@LMG0893 @davidmputnam Keep telling yourself whatever helps you sleep better at night, chickadee. Makes me none. 🤙🏼😎', 0.188368700265252], ['You ever get an email and go \"wtf did I say to them\" cuz none of the information is making sense 😂', -0.08403159622486661], ['I am lonely😭because none of my friends have minecraft WHO AM I SUPPOSE TO PLAY WITH!!??😆', -0.3983767643865364], ['I am lonely😭because none of my friends have minecraft WHO AM I SUPPOSE TO PLAY WITH!!??😆', 0.10676470588235293], [\"But that isn't none of my concern 🤷🏾\\u200d♂️\", -0.10499999999999998], ['@SharmiliChudail I understand none 😂😂😂😂', -0.08403159622486661], ['@SharmiliChudail I understand none 😂😂😂😂', -0.08403159622486661], ['@SharmiliChudail I understand none 😂😂😂😂', -0.08403159622486661], ['@SharmiliChudail I understand none 😂😂😂😂', -0.08403159622486661], [\"RT @haleyygomez: i'm attaching the vine bc none of my friends seem to understand my genius 🤦🏽\\u200d♀️ https://t.co/haJqGTd2AA\", 0.02833333333333332], ['RT @Ross__Vi: And where were you?😂 https://t.co/pUmNa531en', -0.08403159622486661], [\"I'm wearing a dress and bomb ass lipstick today, but none of my favorite customers are coming in 😭\", -0.3983767643865364], ['RT @Queen_Kaaayloni: Except me and sis @Xiobaabyy 💪🏾😘😈 https://t.co/d3FVqOXr7d', 0.25071327182398856], ['RT @Queen_Kaaayloni: Except me and sis @Xiobaabyy 💪🏾😘😈 https://t.co/d3FVqOXr7d', 0.39675438596491236], ['RT @Queen_Kaaayloni: Except me and sis @Xiobaabyy 💪🏾😘😈 https://t.co/d3FVqOXr7d', -0.03730769230769232], [\"RT @HolbrookMaygen: Honestly I don't care to act or be perfect anymore. And none of you bitches have any room to judge me so🤗😏😌\", 0.02745729303547967], [\"RT @HolbrookMaygen: Honestly I don't care to act or be perfect anymore. And none of you bitches have any room to judge me so🤗😏😌\", 0.17921052631578954], ['#Freestyle50challenge @verizon @tee_grizzley tag them none stop till they see it 🖤 help me win this challenge 🙏🏽💯… https://t.co/FDisqjHfUv', 0.11280376868096165], ['#Freestyle50challenge @verizon @tee_grizzley tag them none stop till they see it 🖤 help me win this challenge 🙏🏽💯… https://t.co/FDisqjHfUv', -0.1841208791208791], ['@alexrod1735 None but facts bro much love 💯🙏🏽', -0.1841208791208791], ['@alexrod1735 None but facts bro much love 💯🙏🏽', 0.11280376868096165], [\"One Thing Im Glad About Is That None Of My Friends Are Messy, You Don't See None Of My Bitches In This 610 Mess Thank God🙏🏽\", 0.11280376868096165], ['RT @Ayourb: None of the above, it is called \"taking\"... 😂😂😂 https://t.co/dNMdqirDW7', -0.08403159622486661], ['RT @Ayourb: None of the above, it is called \"taking\"... 😂😂😂 https://t.co/dNMdqirDW7', -0.08403159622486661], ['RT @Ayourb: None of the above, it is called \"taking\"... 😂😂😂 https://t.co/dNMdqirDW7', -0.08403159622486661], [\"RT @A1_SelfMade: Having a lot of b*tches ain't the look nomore especially if none of them really there for you 🤷🏽\\u200d♂️it don't compare to tha…\", -0.10499999999999998], ['RT @LOVEBT3: DELETE THIS SHIT 😂 https://t.co/g1rF92TBnh', -0.08403159622486661], ['RT @SBSPopAsia: The dancer &amp; his wife are competing on #WorldOfDance &amp; cheering them on is none other than #BTS! 🙌🏻🙌🏻🙌🏻\\n#SBSPopAsia\\nhttps:/…', 0.25542496679946874], ['RT @SBSPopAsia: The dancer &amp; his wife are competing on #WorldOfDance &amp; cheering them on is none other than #BTS! 🙌🏻🙌🏻🙌🏻\\n#SBSPopAsia\\nhttps:/…', 0.25542496679946874], ['RT @SBSPopAsia: The dancer &amp; his wife are competing on #WorldOfDance &amp; cheering them on is none other than #BTS! 🙌🏻🙌🏻🙌🏻\\n#SBSPopAsia\\nhttps:/…', 0.25542496679946874], [\"None of y'all squared up with @_OGPREACH about the full chicken, I'm disappointed 😒 So here it is anyway \\nhttps://t.co/6GIcFe1o26\", -0.6797292418772563], [\"Hmm I don't feeeel none of your energy aye 😆\", 0.10676470588235293], [\"RT @debsylee: Can't speak highly enough of @nottmhospitals Trent Cardiac Centre ❤️ The care you're giving my dad is second-to-none and we a…\", 0.4410869565217392], ['RT @tobdea: Lightning network, Schnorr, MAST, B. Cohen evolution of PoW, are the 4 🔑 innovations moving \"crypto\" at page 2.\\n\\nNone involves…', -0.05499999999999999], ['RT @LOVEBT3: DELETE THIS SHIT 😂 https://t.co/g1rF92TBnh', -0.08403159622486661], ['thread dedicated to @like_a_somboodi and Caroline.😭 https://t.co/C5COoeoqz2', -0.3983767643865364], ['RT @bootzie8: thats why i have none 😂 https://t.co/OvNtMiYEo9', -0.08403159622486661], ['আর একবার যদি নিজের ছাএ জীবনটা ফিরা পাইতাম😭😭😭 আফসোস সময়ের কাজ সময়ে করি নাই।\\nIt’s really fact that time or tied wait for none😌😌', -0.3983767643865364], ['আর একবার যদি নিজের ছাএ জীবনটা ফিরা পাইতাম😭😭😭 আফসোস সময়ের কাজ সময়ে করি নাই।\\nIt’s really fact that time or tied wait for none😌😌', -0.3983767643865364], ['আর একবার যদি নিজের ছাএ জীবনটা ফিরা পাইতাম😭😭😭 আফসোস সময়ের কাজ সময়ে করি নাই।\\nIt’s really fact that time or tied wait for none😌😌', -0.3983767643865364], ['আর একবার যদি নিজের ছাএ জীবনটা ফিরা পাইতাম😭😭😭 আফসোস সময়ের কাজ সময়ে করি নাই।\\nIt’s really fact that time or tied wait for none😌😌', 0.17921052631578954], ['আর একবার যদি নিজের ছাএ জীবনটা ফিরা পাইতাম😭😭😭 আফসোস সময়ের কাজ সময়ে করি নাই।\\nIt’s really fact that time or tied wait for none😌😌', 0.17921052631578954], ['Bae gotta be this gassed up. 📝💛 https://t.co/NBDNreTGEL', -0.06306451612903224], ['Bae gotta be this gassed up. 📝💛 https://t.co/NBDNreTGEL', 0.40762458471760804], [\"RT @haleyygomez: i'm attaching the vine bc none of my friends seem to understand my genius 🤦🏽\\u200d♀️ https://t.co/haJqGTd2AA\", 0.02833333333333332], ['\"Tyt\" 😂😂 https://t.co/TKC8KBwVDE', -0.08403159622486661], ['\"Tyt\" 😂😂 https://t.co/TKC8KBwVDE', -0.08403159622486661], ['@AllCelebPolls @LisaVanderpump @Porsha4real @SonjatMorgan @Teresa_Giudice @LeeAnneLocken @Bravotv @Andy None of the above!! 😂😂', -0.08403159622486661], ['@AllCelebPolls @LisaVanderpump @Porsha4real @SonjatMorgan @Teresa_Giudice @LeeAnneLocken @Bravotv @Andy None of the above!! 😂😂', -0.08403159622486661], [\"Supposedly the bitch don't got none 😂😂 https://t.co/r2AGaae0m8\", -0.08403159622486661], [\"Supposedly the bitch don't got none 😂😂 https://t.co/r2AGaae0m8\", -0.08403159622486661], ['not all the time , his brothers take the whole phone and be clowning with me 🤷🏽\\u200d♀️ https://t.co/a57wtpWWGW', 0.02833333333333332], [\"Hard pass...I'll give as much respect as y'all did Barack...none 😒 https://t.co/UJcr4mrZRA\", -0.6797292418772563], ['RT @SBSPopAsia: The dancer &amp; his wife are competing on #WorldOfDance &amp; cheering them on is none other than #BTS! 🙌🏻🙌🏻🙌🏻\\n#SBSPopAsia\\nhttps:/…', 0.25542496679946874], ['RT @SBSPopAsia: The dancer &amp; his wife are competing on #WorldOfDance &amp; cheering them on is none other than #BTS! 🙌🏻🙌🏻🙌🏻\\n#SBSPopAsia\\nhttps:/…', 0.25542496679946874], ['RT @SBSPopAsia: The dancer &amp; his wife are competing on #WorldOfDance &amp; cheering them on is none other than #BTS! 🙌🏻🙌🏻🙌🏻\\n#SBSPopAsia\\nhttps:/…', 0.25542496679946874], ['RT @FootyScouted: 🎥🇦🇷| Leandro Parades (23) composure to pressure is second to none.  https://t.co/1V4qQ71A3X', -0.0019696969696969546], ['RT @chxstainiac: Her eyes are mesmerizing 😍 her hair is on fiiiire and she has no flaws ... none https://t.co/vpmIe1cHd8', 0.37293678251297374], ['RT @AspectZavi_: SLIGHT FREESTYLE SINCE I AINT DROPPED NONE IN A MINUTE \\n#RetweetToSaveASoul 💆🏽\\u200d♂️😱🔥 https://t.co/RzdBQU6fRs', -0.07673913043478259], ['RT @AspectZavi_: SLIGHT FREESTYLE SINCE I AINT DROPPED NONE IN A MINUTE \\n#RetweetToSaveASoul 💆🏽\\u200d♂️😱🔥 https://t.co/RzdBQU6fRs', -0.10499999999999998], ['RT @AspectZavi_: SLIGHT FREESTYLE SINCE I AINT DROPPED NONE IN A MINUTE \\n#RetweetToSaveASoul 💆🏽\\u200d♂️😱🔥 https://t.co/RzdBQU6fRs', -0.11473451327433631], ['RT @AspectZavi_: SLIGHT FREESTYLE SINCE I AINT DROPPED NONE IN A MINUTE \\n#RetweetToSaveASoul 💆🏽\\u200d♂️😱🔥 https://t.co/RzdBQU6fRs', -0.16521505376344087], [\"That was the only thing holdin me back, none of these niggas ain't tellin me 💩\", -0.42290393013100436], [\"@FoxNews God help those kids she teaches. What a lopsided attitude. I'm glad I wasn't subjected to her. Her opinion or none. Spare us❗\", -0.203989898989899], [\"RT @christyonnaaa: i'm checking into a new school and i'm not social none 😂 this always been my biggest fear .\", -0.08403159622486661], ['RT @trajanvii: Your confidence will always be intimidating to those who have none 🤷🏿\\u200d♀️', 0.02833333333333332], ['None of these bitches can say they had me 💆🏾\\u200d♂️🤦🏾\\u200d♂️', -0.07673913043478259], ['None of these bitches can say they had me 💆🏾\\u200d♂️🤦🏾\\u200d♂️', -0.10499999999999998], ['None of these bitches can say they had me 💆🏾\\u200d♂️🤦🏾\\u200d♂️', -0.10499999999999998], ['@shimmercontour Lmaoo well tbh none of them really spoke much but I was ready for him to speak french fluently 😫', -0.450610278372591], [\"RT @Dleaf23: In 5 years, you and none of this will matter anyway, so I'm not gonna frown over it. 🤷🏻\\u200d♂️\", -0.10499999999999998], [\"He gave us 3 topics: Stealing is always wrong, God exist, god doesn't exist.... I literally don't agree with none of these 😫😒\", -0.450610278372591], [\"He gave us 3 topics: Stealing is always wrong, God exist, god doesn't exist.... I literally don't agree with none of these 😫😒\", -0.6797292418772563], [\"@TextualOffender they were practice rounds manikind let's play again 😒 (and dips will always be alive on insta for… https://t.co/7phee87dLP\", -0.6797292418772563], ['Rainy days at Summer Camp calls for movies and what better movie to play than The Game Plan? None! Right @madisonpettis? 😎💓', 0.188368700265252], ['Rainy days at Summer Camp calls for movies and what better movie to play than The Game Plan? None! Right @madisonpettis? 😎💓', 0.3668146718146718], ['Thanks @officialUKMail still none the wiser 😂😂 #nowwhat https://t.co/C1bstQLBrc', -0.08403159622486661], ['Thanks @officialUKMail still none the wiser 😂😂 #nowwhat https://t.co/C1bstQLBrc', -0.08403159622486661], ['ohh 🙈 🙊 https://t.co/FPXtkuJba1', 0.12769230769230772], ['ohh 🙈 🙊 https://t.co/FPXtkuJba1', 0.1556896551724138], ['@FCBarcelona if none of this could be done, how about a simple follow back?😁', 0.14497715851987208], [\"The power in Chester's voice is just driving me crazy😍 None was never like him and none will ever be. I miss u Chester\", 0.37293678251297374], [\"RT @Daisey_o: Them girls who like all your boyfriends selfies but like none of your couple pics ? I've blocked many over it 😂😭 sly as fuck\", -0.08403159622486661], [\"RT @Daisey_o: Them girls who like all your boyfriends selfies but like none of your couple pics ? I've blocked many over it 😂😭 sly as fuck\", -0.3983767643865364], ['Gross none😂 https://t.co/a81JNglvRj', -0.08403159622486661], ['😂😂 never noticed https://t.co/XXwrhWglxA', -0.08403159622486661], ['😂😂 never noticed https://t.co/XXwrhWglxA', -0.08403159622486661], ['None of my mates want to see Dunkirk 💔💔😭', -0.4269512195121951], ['None of my mates want to see Dunkirk 💔💔😭', -0.4269512195121951], ['None of my mates want to see Dunkirk 💔💔😭', -0.3983767643865364], [\"WHY DID NO ONE TELL ME THIS AHEAD OF TIME?!? NONE OF Y'ALL LOVE ME!!!😭😭😭😭😭 https://t.co/Zz2aAta3iP\", -0.3983767643865364], [\"WHY DID NO ONE TELL ME THIS AHEAD OF TIME?!? NONE OF Y'ALL LOVE ME!!!😭😭😭😭😭 https://t.co/Zz2aAta3iP\", -0.3983767643865364], [\"WHY DID NO ONE TELL ME THIS AHEAD OF TIME?!? NONE OF Y'ALL LOVE ME!!!😭😭😭😭😭 https://t.co/Zz2aAta3iP\", -0.3983767643865364], [\"WHY DID NO ONE TELL ME THIS AHEAD OF TIME?!? NONE OF Y'ALL LOVE ME!!!😭😭😭😭😭 https://t.co/Zz2aAta3iP\", -0.3983767643865364], [\"WHY DID NO ONE TELL ME THIS AHEAD OF TIME?!? NONE OF Y'ALL LOVE ME!!!😭😭😭😭😭 https://t.co/Zz2aAta3iP\", -0.3983767643865364], ['@ajithFC Wishing u best @ajithFC auspicious today 25yrs of thala {none of the actors fan page has this much followers}💪💪💪way to go🙏', 0.25071327182398856], ['@ajithFC Wishing u best @ajithFC auspicious today 25yrs of thala {none of the actors fan page has this much followers}💪💪💪way to go🙏', 0.25071327182398856], ['@ajithFC Wishing u best @ajithFC auspicious today 25yrs of thala {none of the actors fan page has this much followers}💪💪💪way to go🙏', 0.25071327182398856], ['@ajithFC Wishing u best @ajithFC auspicious today 25yrs of thala {none of the actors fan page has this much followers}💪💪💪way to go🙏', 0.11280376868096165], ['RT @smellyahk202: Not pressed to have none of ya in my life 💯', -0.1841208791208791], [\"I ain't took care of my hair none this year🤦🏾\\u200d♀️\", 0.02833333333333332], [\"When you think bkk is the best leg with all the priv but you're actually wrong since you can just get either hi t /rehearsal or none at all🌚\", 0.16797297297297303], [\"People always say they want to do this and that when they get in a relationship and don't do NONE of it when they are in one🤦🏾\\u200d♀️\", 0.02833333333333332], ['That feeling when you nail a final Jeopardy that none of the contestants got 🙌🙌🙌', 0.25542496679946874], ['That feeling when you nail a final Jeopardy that none of the contestants got 🙌🙌🙌', 0.25542496679946874], ['That feeling when you nail a final Jeopardy that none of the contestants got 🙌🙌🙌', 0.25542496679946874], [\"🤣🤣🤣 she don't care about none of these complaints 😂 https://t.co/E1hH3Drf13\", -0.08403159622486661], [\"Hör dir None Of Y'all von ODYSSEMIL an #np auf #SoundCloud. 🌊🌬🌪🌊 https://t.co/ukCLBO98VI\", 0.21078947368421047], [\"Hör dir None Of Y'all von ODYSSEMIL an #np auf #SoundCloud. 🌊🌬🌪🌊 https://t.co/ukCLBO98VI\", 0.21078947368421047], ['i have spent so much money on plane tickets these past 2 months and none of them have felt like relaxing vacations🤦🏻\\u200d♀️', 0.02833333333333332], ['@LiddyJayKB None is always a good choice! 😉', 0.15916831032215645], ['RT @vickyleo6: @ajithFC Wishing u best @ajithFC auspicious today 25yrs of thala {none of the actors fan page has this much followers}💪💪💪way…', 0.25071327182398856], ['RT @vickyleo6: @ajithFC Wishing u best @ajithFC auspicious today 25yrs of thala {none of the actors fan page has this much followers}💪💪💪way…', 0.25071327182398856], ['RT @vickyleo6: @ajithFC Wishing u best @ajithFC auspicious today 25yrs of thala {none of the actors fan page has this much followers}💪💪💪way…', 0.25071327182398856], [\"I feel so lonely when I'm watching a show on Netflix that none of my friends are watching so I can't talk about it with anyone 😂\", -0.08403159622486661], ['RT @WannaOne__Data: [정보]\\n\\n#케이스위스 이벤트 [사이트안내] \\n👉https://t.co/0eBKU6qVj0\\n\\n#강다니엘 #박지훈 #이대휘 #김재환 #옹성우 #박우진 #라이관린 #윤지성 #황민현 #배진영 #하성운 #워너원… ', 0.08883561643835619], ['100% my life with no makeup \\n\\nDad: you look better with none you wear too much Kodie\\n\\nMom: have you been crying? Why is your face red?  \\n\\n😂', -0.08403159622486661], ['⬇️⬇️⬇️ https://t.co/FL9bSl4RyM', 0.16166666666666668], ['⬇️⬇️⬇️ https://t.co/FL9bSl4RyM', 0.16166666666666668], ['⬇️⬇️⬇️ https://t.co/FL9bSl4RyM', 0.16166666666666668], [\"i don't like you guys 😂😂😭😭 https://t.co/Ldf4h9Dh0d\", -0.08403159622486661], [\"i don't like you guys 😂😂😭😭 https://t.co/Ldf4h9Dh0d\", -0.08403159622486661], [\"i don't like you guys 😂😂😭😭 https://t.co/Ldf4h9Dh0d\", -0.3983767643865364], [\"i don't like you guys 😂😂😭😭 https://t.co/Ldf4h9Dh0d\", -0.3983767643865364], ['half of this cast gone before you know it😰 https://t.co/yr9fg78x2o', -0.32486754966887416], ['If you have a kid we cant be nothing more than friends 👎🏽none of that', -0.49492248062015504], ['RT @MoxeeBrushes: ⚠⚠⚠⚠Also lip care and body care lines will NOT be affected by this sale (my prices are already so low) I mean~ none are e…', -0.37318181818181817], ['RT @MoxeeBrushes: ⚠⚠⚠⚠Also lip care and body care lines will NOT be affected by this sale (my prices are already so low) I mean~ none are e…', -0.37318181818181817], ['RT @MoxeeBrushes: ⚠⚠⚠⚠Also lip care and body care lines will NOT be affected by this sale (my prices are already so low) I mean~ none are e…', -0.37318181818181817], ['RT @MoxeeBrushes: ⚠⚠⚠⚠Also lip care and body care lines will NOT be affected by this sale (my prices are already so low) I mean~ none are e…', -0.37318181818181817], [\"RT @haleyygomez: i'm attaching the vine bc none of my friends seem to understand my genius 🤦🏽\\u200d♀️ https://t.co/haJqGTd2AA\", 0.02833333333333332], ['awesome.. 💚 😛 https://t.co/Fsv5Ovsvzq', 0.35421787709497204], ['awesome.. 💚 😛 https://t.co/Fsv5Ovsvzq', 0.30409090909090913], [\"@lawstalgia Lol none major lil bruh just sleep 🙏🏾 I ain't tryna wake em cause ik he dreaming bout nem blue faces🤷🏾\\u200d♂️\", 0.11280376868096165], [\"@lawstalgia Lol none major lil bruh just sleep 🙏🏾 I ain't tryna wake em cause ik he dreaming bout nem blue faces🤷🏾\\u200d♂️\", -0.10499999999999998], ['YHOOOOO! I used to love this😅 https://t.co/1Pi1TCa91Z', -0.12534632034632032], ['I am so excited for Caribana so I can do NONE of the Caribana activities and rest in my house. #longweekend 🎉 https://t.co/0PHrhcQXUX', 0.43455555555555553], ['I wish a lot of other niggas think like this😬 https://t.co/FXGZ53gVEb', -0.10873831775700932], ['RT @WannaOne__Data: [정보]\\n\\n#케이스위스 이벤트 [사이트안내] \\n👉https://t.co/0eBKU6qVj0\\n\\n#강다니엘 #박지훈 #이대휘 #김재환 #옹성우 #박우진 #라이관린 #윤지성 #황민현 #배진영 #하성운 #워너원… ', 0.08883561643835619]]\n"
     ]
    }
   ],
   "source": [
    "# text preprocessing (partially from before partially from August)\n",
    "mongo_uri = 'mongodb://heroku_xgnhblcr:' + os.environ.get('MONGODB_PASSWORD') + '@ds149511.mlab.com:49511/heroku_xgnhblcr'\n",
    "client = pymongo.MongoClient(mongo_uri)\n",
    "db = client.get_default_database()\n",
    "myresults = list(db.test.find())\n",
    "tweets = []\n",
    "emoji_tweets = []\n",
    "for entry in myresults:\n",
    "    tweets.append(entry['text'])\n",
    "#Doing the next part based on the earlier REST-API-using cell\n",
    "for tweet in tweets:\n",
    "    tweet_emojis = []\n",
    "    for char in tweet:\n",
    "        if char in emo.UNICODE_EMOJI:\n",
    "            tweet_emojis.append(char)\n",
    "    if tweet_emojis:\n",
    "        for emoji in tweet_emojis:\n",
    "            tweet_emoji_scores = []\n",
    "            try:\n",
    "                tweet_emoji_scores.append(emoji_scores[emoji])\n",
    "            except KeyError as e:\n",
    "                print('No emoji score for %s' % e)\n",
    "                continue\n",
    "            if tweet_emoji_scores:\n",
    "                if max(tweet_emoji_scores) == max(numpy.absolute(tweet_emoji_scores)):\n",
    "                    tweet_score = max(tweet_emoji_scores)\n",
    "                else:\n",
    "                    tweet_score = min(tweet_emoji_scores)\n",
    "                emoji_tweets.append([tweet, tweet_score])\n",
    "    \n",
    "print(emoji_tweets)"
   ]
  },
  {
   "cell_type": "code",
   "execution_count": 104,
   "metadata": {
    "collapsed": true
   },
   "outputs": [],
   "source": [
    "tweet_text= []\n",
    "for tweet in emoji_tweets:\n",
    "    tweet_text.append(tweet[0])\n",
    "    \n",
    "    \n",
    "def preprocessor(tweet):\n",
    "    \n",
    "    #remove accents\n",
    "    normalized = unicodedata.normalize('NFKD', tweet)\n",
    "    if normalized != tweet:\n",
    "        tweet = ''.join([c for c in normalized if not unicodedata.combining(c)])\n",
    "        \n",
    "    tweet = tweet.lower()\n",
    "    \n",
    "    #remove URLs\n",
    "    tweet = re.sub(r'https?:\\/\\/.*?(\\s|$)', '', tweet)\n",
    "    tweet = re.sub(r'@\\w*?(\\s|$)', '', tweet)\n",
    "    tweet = re.sub(r'#\\w*?(\\s|$)', '', tweet)\n",
    "    \n",
    "    #remove RT (retweet) - this doesn't seem to work since 'rt' is in the preprocessed data\n",
    "    tweet = re.sub('^rt\\s', '', tweet)\n",
    "    \n",
    "    #Note - the preprocessor already seems to be removing emojis - no need for extra code\n",
    "    \n",
    "    return tweet\n",
    "    \n"
   ]
  },
  {
   "cell_type": "code",
   "execution_count": 105,
   "metadata": {
    "collapsed": false
   },
   "outputs": [
    {
     "name": "stdout",
     "output_type": "stream",
     "text": [
      "['Hard', 'pass', \"I'll\", 'give', 'as', 'much', 'respect', 'as', \"y'all\", 'did', 'Barack', 'none', 'https', 't', 'co', 'UJcr4mrZRA']\n"
     ]
    }
   ],
   "source": [
    "def tokenizer(tweet): #Currently troubleshooting function\n",
    "    \n",
    "    tokens = []\n",
    "    apo = '|'.join(['\\'', '‘', '’', 'ʻ', 'ʼ']) # apostrophes\n",
    "    token_pattern = '(^|(?!\\w|' + apo + ').)((\\w|' + apo + ')+)(?!\\w|' + apo + ')'\n",
    "    token_matches = re.finditer(token_pattern, tweet)\n",
    "    for token_match in token_matches:\n",
    "        tokens.append(token_match.group(2))\n",
    "    return tokens\n",
    "\n",
    "print(tokenizer(\"Hard pass...I'll give as much respect as y'all did Barack...none 😒 https://t.co/UJcr4mrZRA\"))"
   ]
  },
  {
   "cell_type": "code",
   "execution_count": 107,
   "metadata": {
    "collapsed": false
   },
   "outputs": [
    {
     "name": "stdout",
     "output_type": "stream",
     "text": [
      "['100', '2', '23', '25yrs', '3', '4', '5', '610', 'a', 'a1_selfmade', 'about', 'above', 'act', 'acting', 'activities', 'actors', 'actually', 'adorable', 'affected', 'again', 'agree', 'ahead', \"ain't\", 'aint', 'alive', 'all', 'alongside', 'already', 'also', 'always', 'am', 'amp', 'an', 'and', 'any', 'anymore', 'anyone', 'anyway', 'are', 'as', 'aspectzavi_', 'ass', 'at', 'attaching', 'attitude', 'auf', 'auspicious', 'awesome', 'aye', 'ayourb', 'b', 'baby', 'back', 'bad', 'bae', 'barack', 'bc', 'be', 'because', 'become', 'been', 'before', 'being', 'best', 'better', 'bias', 'biggest', 'birthday', 'bitch', 'bitches', 'bkk', 'blocked', 'blue', 'body', 'bomb', 'bootzie8', 'bout', 'boyfriends', 'bro', 'brothers', 'bruh', 'bts', 'but', 'bxtch', 'by', 'called', 'calls', 'camp', 'can', \"can't\", 'cant', 'cardiac', 'care', 'caribana', 'caroline', 'cast', 'cause', 'centre', 'challenge', 'checking', 'cheering', 'chester', \"chester's\", 'chickadee', 'chicken', 'choice', 'christyonnaaa', 'chxstainiac', 'clowning', 'cohen', 'colin', 'coming', 'compare', 'competing', 'complaints', 'composure', 'concern', 'confidence', 'contestants', 'could', 'couple', 'crazy', 'crying', 'crypto', 'customers', 'cuz', 'dad', 'daisey_o', 'dancer', 'days', 'debsylee', 'dedicated', 'deeroldrick', 'delete', 'dick', 'did', 'dinesh_dezzy01', 'dips', 'dir', 'disappointed', 'dleaf23', 'dm', 'do', \"doesn't\", \"don't\", 'done', 'don’t', 'dreaming', 'dress', 'driving', 'dropped', 'dunkirk', 'e', 'either', 'else', 'em', 'email', 'energy', 'enough', 'especially', 'ever', 'evolution', 'except', 'excited', 'exist', 'existent', 'eyes', 'face', 'faces', 'fact', 'facts', 'fan', 'favorite', 'fear', 'feeeel', 'feel', 'feeling', 'felt', 'fiiiire', 'final', 'flaws', 'fluently', 'follow', 'followers', 'footyscouted', 'for', 'forvever', 'freestyle', 'french', 'friends', 'from', 'frown', 'fuck', 'fucked', 'full', 'game', 'gassed', 'gave', 'genius', 'get', 'girls', 'give', 'giving', 'glad', 'go', 'god', 'going', 'gone', 'gonna', 'good', 'got', 'gotta', 'gross', 'guys', 'had', 'hair', 'haleyygomez', 'half', 'happy', 'hard', 'has', 'have', 'having', 'he', 'help', 'helps', 'her', 'here', 'hi', 'highly', 'him', 'his', 'hmm', 'holbrookmaygen', 'holdin', 'honestly', 'hor', 'hoseokie', 'house', 'how', 'i', \"i'll\", \"i'm\", \"i've\", 'iamtxmtxm', 'if', 'ik', 'im', 'in', 'information', 'innovations', 'insta', 'intimidating', 'into', 'involves', 'ion', 'is', \"isn't\", 'issaaabie', 'it', \"it's\", 'jeopardy', 'jociology', 'judge', 'juicy', 'just', 'justice', 'keep', 'kennat', 'kid', 'kids', 'know', 'kodie', 'leandro', 'leg', \"let's\", 'life', 'lifetime', 'lightning', 'like', 'lil', 'lines', 'lip', 'lipstick', 'literally', 'lmaoo', 'lmfaoo', 'lol', 'lonely', 'look', 'looking', 'lopsided', 'lot', 'love', 'lovebt3', 'low', 'madisonpettis', 'major', 'makes', 'makeup', 'making', 'manikind', 'many', 'mast', 'mates', 'matter', 'me', 'mean', 'mesmerizing', 'mess', 'messy', 'minecraft', 'minute', 'miss', 'money', 'months', 'more', 'movie', 'movies', 'moving', 'moxeebrushes', 'much', 'my', 'nah', 'nail', 'need', 'nem', 'netflix', 'network', 'never', 'new', 'niggas', 'night', 'no', 'nomore', 'none', 'not', 'nothing', 'noticed', 'odyssemil', 'of', 'off', 'offer', 'ohh', 'on', 'one', 'only', 'opinion', 'or', 'other', 'outside', 'over', 'page', 'pandaexpress', 'papaw', 'parades', 'pass', 'past', 'people', 'perfect', 'phone', 'phrase', 'pics', 'plan', 'plane', 'play', 'point', 'pow', 'power', 'practice', 'pressed', 'pressure', 'prices', 'priv', 'probation', 'queen_kaaayloni', 'queen_nyasia', 'rainy', 'ready', 'really', 'red', 'rehearsal', 'relationship', 'relaxing', 'released', 'respect', 'rest', 'right', 'room', 'ross__vi', 'rounds', 'sale', 'say', 'sbspopasia', 'schnorr', 'school', 'second', 'see', 'seem', 'selfies', 'sense', 'she', 'shit', 'show', 'simple', 'since', 'sis', 'sleep', 'slight', 'sly', 'smellyahk202', 'so', 'social', 'softiedanny', 'soundcloud', 'spare', 'speak', 'spent', 'spoke', 'squared', 'stealing', 'still', 'stop', 'subjected', 'summer', 'suppose', 'supposedly', 't', 'tag', 'take', 'taking', 'talk', 'tbh', 'tches', 'teaches', 'tell', 'tellin', 'telling', 'tha', 'thala', 'than', 'thank', 'thanks', 'that', 'thats', 'the', 'them', 'there', 'these', 'they', 'thing', 'think', 'this', 'those', 'thread', 'tickets', 'tied', 'till', 'time', 'to', 'tobdea', 'today', 'too', 'took', 'topics', 'trajanvii', 'trent', 'tryna', 'turn', 'tyt', 'u', 'understand', 'up', 'us', 'used', 'vacations', 'very', 'vickyleo6', 'vine', 'voice', 'von', 'wait', 'wake', 'wannaone__data', 'want', 'wanting', 'was', \"wasn't\", 'watching', 'way', 'we', 'wear', 'wearing', 'well', 'were', 'what', 'whatever', 'when', 'where', 'who', 'whole', 'why', 'wife', 'will', 'win', 'wiser', 'wish', 'wished', 'wishing', 'with', 'work', 'would', 'wrong', 'wtf', \"y'all\", 'ya', 'year', 'years', 'yes', 'yhooooo', 'yoongi', 'you', \"you're\", 'your', 'yourself', 'আফস', 'আর', 'ই', 'ইত', 'এ', 'একব', 'ক', 'কর', 'ছ', 'জ', 'ন', 'প', 'ফ', 'বনট', 'ম', 'যদ', 'র', 'স', 'সময', '사이트안내', '워너원', '정보']\n",
      "['Very good point by colin 🤷🏻\\u200d♂️ https://t.co/Wgp0Y5pFfL', '@JordanSweeto You can DM me and we can become best friends because I have none. ☺️', 'RT @Queen_nyasia: ion have friends or none of that 💯.', 'RT @iamtxmtxm: I KENNAT 💕💕💕 https://t.co/Bd2Fy0t4qP', 'RT @iamtxmtxm: I KENNAT 💕💕💕 https://t.co/Bd2Fy0t4qP', 'RT @iamtxmtxm: I KENNAT 💕💕💕 https://t.co/Bd2Fy0t4qP', 'RT @IssaaaBie: Yoongi stop being so adorable alongside my forvever baby, lifetime bias hoseokie ♡😍😭 https://t.co/G1PrFTsASZ', 'RT @IssaaaBie: Yoongi stop being so adorable alongside my forvever baby, lifetime bias hoseokie ♡😍😭 https://t.co/G1PrFTsASZ', 'RT @dinesh_dezzy01: None could do justice to that phrase other than @aditiraohydari 😍 #FalwlessFace https://t.co/uJKbvasNqy', 'RT @softiedanny: Me none stop since it got released👌 @AdoreDelano https://t.co/1m1TSELZ4F', \"@_Short_Round_ Ain't nothing juicy about my fucked up love life 🤣💔 it's none-existent\", 'RT @Ayourb: None of the above, it is called \"taking\"... 😂😂😂 https://t.co/dNMdqirDW7', 'RT @Ayourb: None of the above, it is called \"taking\"... 😂😂😂 https://t.co/dNMdqirDW7', 'RT @Ayourb: None of the above, it is called \"taking\"... 😂😂😂 https://t.co/dNMdqirDW7', \"None of y'all wished me happy birthday and I'm still alive 😤 https://t.co/mvTtYgDgFP\", \"RT @Daisey_o: Them girls who like all your boyfriends selfies but like none of your couple pics ? I've blocked many over it 😂😭 sly as fuck\", \"RT @Daisey_o: Them girls who like all your boyfriends selfies but like none of your couple pics ? I've blocked many over it 😂😭 sly as fuck\", \"Lmfaoo nah I want his dick none else 😂😂 I been acting bad it's going turn to a yes before the night https://t.co/CswgWGI7L2\", \"Lmfaoo nah I want his dick none else 😂😂 I been acting bad it's going turn to a yes before the night https://t.co/CswgWGI7L2\", 'thats why i have none 😂 https://t.co/OvNtMiYEo9', 'RT @deeroldrick: #SELU need to offer \"Jociology\", none of us would be on probation 😂', '@KissMYBlahhhhh Bxtch I be wanting one when I get off from work. Ion got none 😂', 'RT @PandaExpress: Don’t be on the outside always looking in… 🐼 ❤️ https://t.co/9gNpjBJBw7', 'RT @PandaExpress: Don’t be on the outside always looking in… 🐼 ❤️ https://t.co/9gNpjBJBw7', 'papaw * 😭😪 https://t.co/E8aWbSTzpf', 'papaw * 😭😪 https://t.co/E8aWbSTzpf', '💁🏽 https://t.co/y44vuz0Zwo', 'Except me and sis @Xiobaabyy 💪🏾😘😈 https://t.co/d3FVqOXr7d', 'Except me and sis @Xiobaabyy 💪🏾😘😈 https://t.co/d3FVqOXr7d', 'Except me and sis @Xiobaabyy 💪🏾😘😈 https://t.co/d3FVqOXr7d', '@LMG0893 @davidmputnam Keep telling yourself whatever helps you sleep better at night, chickadee. Makes me none. 🤙🏼😎', 'You ever get an email and go \"wtf did I say to them\" cuz none of the information is making sense 😂', 'I am lonely😭because none of my friends have minecraft WHO AM I SUPPOSE TO PLAY WITH!!??😆', 'I am lonely😭because none of my friends have minecraft WHO AM I SUPPOSE TO PLAY WITH!!??😆', \"But that isn't none of my concern 🤷🏾\\u200d♂️\", '@SharmiliChudail I understand none 😂😂😂😂', '@SharmiliChudail I understand none 😂😂😂😂', '@SharmiliChudail I understand none 😂😂😂😂', '@SharmiliChudail I understand none 😂😂😂😂', \"RT @haleyygomez: i'm attaching the vine bc none of my friends seem to understand my genius 🤦🏽\\u200d♀️ https://t.co/haJqGTd2AA\", 'RT @Ross__Vi: And where were you?😂 https://t.co/pUmNa531en', \"I'm wearing a dress and bomb ass lipstick today, but none of my favorite customers are coming in 😭\", 'RT @Queen_Kaaayloni: Except me and sis @Xiobaabyy 💪🏾😘😈 https://t.co/d3FVqOXr7d', 'RT @Queen_Kaaayloni: Except me and sis @Xiobaabyy 💪🏾😘😈 https://t.co/d3FVqOXr7d', 'RT @Queen_Kaaayloni: Except me and sis @Xiobaabyy 💪🏾😘😈 https://t.co/d3FVqOXr7d', \"RT @HolbrookMaygen: Honestly I don't care to act or be perfect anymore. And none of you bitches have any room to judge me so🤗😏😌\", \"RT @HolbrookMaygen: Honestly I don't care to act or be perfect anymore. And none of you bitches have any room to judge me so🤗😏😌\", '#Freestyle50challenge @verizon @tee_grizzley tag them none stop till they see it 🖤 help me win this challenge 🙏🏽💯… https://t.co/FDisqjHfUv', '#Freestyle50challenge @verizon @tee_grizzley tag them none stop till they see it 🖤 help me win this challenge 🙏🏽💯… https://t.co/FDisqjHfUv', '@alexrod1735 None but facts bro much love 💯🙏🏽', '@alexrod1735 None but facts bro much love 💯🙏🏽', \"One Thing Im Glad About Is That None Of My Friends Are Messy, You Don't See None Of My Bitches In This 610 Mess Thank God🙏🏽\", 'RT @Ayourb: None of the above, it is called \"taking\"... 😂😂😂 https://t.co/dNMdqirDW7', 'RT @Ayourb: None of the above, it is called \"taking\"... 😂😂😂 https://t.co/dNMdqirDW7', 'RT @Ayourb: None of the above, it is called \"taking\"... 😂😂😂 https://t.co/dNMdqirDW7', \"RT @A1_SelfMade: Having a lot of b*tches ain't the look nomore especially if none of them really there for you 🤷🏽\\u200d♂️it don't compare to tha…\", 'RT @LOVEBT3: DELETE THIS SHIT 😂 https://t.co/g1rF92TBnh', 'RT @SBSPopAsia: The dancer &amp; his wife are competing on #WorldOfDance &amp; cheering them on is none other than #BTS! 🙌🏻🙌🏻🙌🏻\\n#SBSPopAsia\\nhttps:/…', 'RT @SBSPopAsia: The dancer &amp; his wife are competing on #WorldOfDance &amp; cheering them on is none other than #BTS! 🙌🏻🙌🏻🙌🏻\\n#SBSPopAsia\\nhttps:/…', 'RT @SBSPopAsia: The dancer &amp; his wife are competing on #WorldOfDance &amp; cheering them on is none other than #BTS! 🙌🏻🙌🏻🙌🏻\\n#SBSPopAsia\\nhttps:/…', \"None of y'all squared up with @_OGPREACH about the full chicken, I'm disappointed 😒 So here it is anyway \\nhttps://t.co/6GIcFe1o26\", \"Hmm I don't feeeel none of your energy aye 😆\", \"RT @debsylee: Can't speak highly enough of @nottmhospitals Trent Cardiac Centre ❤️ The care you're giving my dad is second-to-none and we a…\", 'RT @tobdea: Lightning network, Schnorr, MAST, B. Cohen evolution of PoW, are the 4 🔑 innovations moving \"crypto\" at page 2.\\n\\nNone involves…', 'RT @LOVEBT3: DELETE THIS SHIT 😂 https://t.co/g1rF92TBnh', 'thread dedicated to @like_a_somboodi and Caroline.😭 https://t.co/C5COoeoqz2', 'RT @bootzie8: thats why i have none 😂 https://t.co/OvNtMiYEo9', 'আর একবার যদি নিজের ছাএ জীবনটা ফিরা পাইতাম😭😭😭 আফসোস সময়ের কাজ সময়ে করি নাই।\\nIt’s really fact that time or tied wait for none😌😌', 'আর একবার যদি নিজের ছাএ জীবনটা ফিরা পাইতাম😭😭😭 আফসোস সময়ের কাজ সময়ে করি নাই।\\nIt’s really fact that time or tied wait for none😌😌', 'আর একবার যদি নিজের ছাএ জীবনটা ফিরা পাইতাম😭😭😭 আফসোস সময়ের কাজ সময়ে করি নাই।\\nIt’s really fact that time or tied wait for none😌😌', 'আর একবার যদি নিজের ছাএ জীবনটা ফিরা পাইতাম😭😭😭 আফসোস সময়ের কাজ সময়ে করি নাই।\\nIt’s really fact that time or tied wait for none😌😌', 'আর একবার যদি নিজের ছাএ জীবনটা ফিরা পাইতাম😭😭😭 আফসোস সময়ের কাজ সময়ে করি নাই।\\nIt’s really fact that time or tied wait for none😌😌', 'Bae gotta be this gassed up. 📝💛 https://t.co/NBDNreTGEL', 'Bae gotta be this gassed up. 📝💛 https://t.co/NBDNreTGEL', \"RT @haleyygomez: i'm attaching the vine bc none of my friends seem to understand my genius 🤦🏽\\u200d♀️ https://t.co/haJqGTd2AA\", '\"Tyt\" 😂😂 https://t.co/TKC8KBwVDE', '\"Tyt\" 😂😂 https://t.co/TKC8KBwVDE', '@AllCelebPolls @LisaVanderpump @Porsha4real @SonjatMorgan @Teresa_Giudice @LeeAnneLocken @Bravotv @Andy None of the above!! 😂😂', '@AllCelebPolls @LisaVanderpump @Porsha4real @SonjatMorgan @Teresa_Giudice @LeeAnneLocken @Bravotv @Andy None of the above!! 😂😂', \"Supposedly the bitch don't got none 😂😂 https://t.co/r2AGaae0m8\", \"Supposedly the bitch don't got none 😂😂 https://t.co/r2AGaae0m8\", 'not all the time , his brothers take the whole phone and be clowning with me 🤷🏽\\u200d♀️ https://t.co/a57wtpWWGW', \"Hard pass...I'll give as much respect as y'all did Barack...none 😒 https://t.co/UJcr4mrZRA\", 'RT @SBSPopAsia: The dancer &amp; his wife are competing on #WorldOfDance &amp; cheering them on is none other than #BTS! 🙌🏻🙌🏻🙌🏻\\n#SBSPopAsia\\nhttps:/…', 'RT @SBSPopAsia: The dancer &amp; his wife are competing on #WorldOfDance &amp; cheering them on is none other than #BTS! 🙌🏻🙌🏻🙌🏻\\n#SBSPopAsia\\nhttps:/…', 'RT @SBSPopAsia: The dancer &amp; his wife are competing on #WorldOfDance &amp; cheering them on is none other than #BTS! 🙌🏻🙌🏻🙌🏻\\n#SBSPopAsia\\nhttps:/…', 'RT @FootyScouted: 🎥🇦🇷| Leandro Parades (23) composure to pressure is second to none.  https://t.co/1V4qQ71A3X', 'RT @chxstainiac: Her eyes are mesmerizing 😍 her hair is on fiiiire and she has no flaws ... none https://t.co/vpmIe1cHd8', 'RT @AspectZavi_: SLIGHT FREESTYLE SINCE I AINT DROPPED NONE IN A MINUTE \\n#RetweetToSaveASoul 💆🏽\\u200d♂️😱🔥 https://t.co/RzdBQU6fRs', 'RT @AspectZavi_: SLIGHT FREESTYLE SINCE I AINT DROPPED NONE IN A MINUTE \\n#RetweetToSaveASoul 💆🏽\\u200d♂️😱🔥 https://t.co/RzdBQU6fRs', 'RT @AspectZavi_: SLIGHT FREESTYLE SINCE I AINT DROPPED NONE IN A MINUTE \\n#RetweetToSaveASoul 💆🏽\\u200d♂️😱🔥 https://t.co/RzdBQU6fRs', 'RT @AspectZavi_: SLIGHT FREESTYLE SINCE I AINT DROPPED NONE IN A MINUTE \\n#RetweetToSaveASoul 💆🏽\\u200d♂️😱🔥 https://t.co/RzdBQU6fRs', \"That was the only thing holdin me back, none of these niggas ain't tellin me 💩\", \"@FoxNews God help those kids she teaches. What a lopsided attitude. I'm glad I wasn't subjected to her. Her opinion or none. Spare us❗\", \"RT @christyonnaaa: i'm checking into a new school and i'm not social none 😂 this always been my biggest fear .\", 'RT @trajanvii: Your confidence will always be intimidating to those who have none 🤷🏿\\u200d♀️', 'None of these bitches can say they had me 💆🏾\\u200d♂️🤦🏾\\u200d♂️', 'None of these bitches can say they had me 💆🏾\\u200d♂️🤦🏾\\u200d♂️', 'None of these bitches can say they had me 💆🏾\\u200d♂️🤦🏾\\u200d♂️', '@shimmercontour Lmaoo well tbh none of them really spoke much but I was ready for him to speak french fluently 😫', \"RT @Dleaf23: In 5 years, you and none of this will matter anyway, so I'm not gonna frown over it. 🤷🏻\\u200d♂️\", \"He gave us 3 topics: Stealing is always wrong, God exist, god doesn't exist.... I literally don't agree with none of these 😫😒\", \"He gave us 3 topics: Stealing is always wrong, God exist, god doesn't exist.... I literally don't agree with none of these 😫😒\", \"@TextualOffender they were practice rounds manikind let's play again 😒 (and dips will always be alive on insta for… https://t.co/7phee87dLP\", 'Rainy days at Summer Camp calls for movies and what better movie to play than The Game Plan? None! Right @madisonpettis? 😎💓', 'Rainy days at Summer Camp calls for movies and what better movie to play than The Game Plan? None! Right @madisonpettis? 😎💓', 'Thanks @officialUKMail still none the wiser 😂😂 #nowwhat https://t.co/C1bstQLBrc', 'Thanks @officialUKMail still none the wiser 😂😂 #nowwhat https://t.co/C1bstQLBrc', 'ohh 🙈 🙊 https://t.co/FPXtkuJba1', 'ohh 🙈 🙊 https://t.co/FPXtkuJba1', '@FCBarcelona if none of this could be done, how about a simple follow back?😁', \"The power in Chester's voice is just driving me crazy😍 None was never like him and none will ever be. I miss u Chester\", \"RT @Daisey_o: Them girls who like all your boyfriends selfies but like none of your couple pics ? I've blocked many over it 😂😭 sly as fuck\", \"RT @Daisey_o: Them girls who like all your boyfriends selfies but like none of your couple pics ? I've blocked many over it 😂😭 sly as fuck\", 'Gross none😂 https://t.co/a81JNglvRj', '😂😂 never noticed https://t.co/XXwrhWglxA', '😂😂 never noticed https://t.co/XXwrhWglxA', 'None of my mates want to see Dunkirk 💔💔😭', 'None of my mates want to see Dunkirk 💔💔😭', 'None of my mates want to see Dunkirk 💔💔😭', \"WHY DID NO ONE TELL ME THIS AHEAD OF TIME?!? NONE OF Y'ALL LOVE ME!!!😭😭😭😭😭 https://t.co/Zz2aAta3iP\", \"WHY DID NO ONE TELL ME THIS AHEAD OF TIME?!? NONE OF Y'ALL LOVE ME!!!😭😭😭😭😭 https://t.co/Zz2aAta3iP\", \"WHY DID NO ONE TELL ME THIS AHEAD OF TIME?!? NONE OF Y'ALL LOVE ME!!!😭😭😭😭😭 https://t.co/Zz2aAta3iP\", \"WHY DID NO ONE TELL ME THIS AHEAD OF TIME?!? NONE OF Y'ALL LOVE ME!!!😭😭😭😭😭 https://t.co/Zz2aAta3iP\", \"WHY DID NO ONE TELL ME THIS AHEAD OF TIME?!? NONE OF Y'ALL LOVE ME!!!😭😭😭😭😭 https://t.co/Zz2aAta3iP\", '@ajithFC Wishing u best @ajithFC auspicious today 25yrs of thala {none of the actors fan page has this much followers}💪💪💪way to go🙏', '@ajithFC Wishing u best @ajithFC auspicious today 25yrs of thala {none of the actors fan page has this much followers}💪💪💪way to go🙏', '@ajithFC Wishing u best @ajithFC auspicious today 25yrs of thala {none of the actors fan page has this much followers}💪💪💪way to go🙏', '@ajithFC Wishing u best @ajithFC auspicious today 25yrs of thala {none of the actors fan page has this much followers}💪💪💪way to go🙏', 'RT @smellyahk202: Not pressed to have none of ya in my life 💯', \"I ain't took care of my hair none this year🤦🏾\\u200d♀️\", \"When you think bkk is the best leg with all the priv but you're actually wrong since you can just get either hi t /rehearsal or none at all🌚\", \"People always say they want to do this and that when they get in a relationship and don't do NONE of it when they are in one🤦🏾\\u200d♀️\", 'That feeling when you nail a final Jeopardy that none of the contestants got 🙌🙌🙌', 'That feeling when you nail a final Jeopardy that none of the contestants got 🙌🙌🙌', 'That feeling when you nail a final Jeopardy that none of the contestants got 🙌🙌🙌', \"🤣🤣🤣 she don't care about none of these complaints 😂 https://t.co/E1hH3Drf13\", \"Hör dir None Of Y'all von ODYSSEMIL an #np auf #SoundCloud. 🌊🌬🌪🌊 https://t.co/ukCLBO98VI\", \"Hör dir None Of Y'all von ODYSSEMIL an #np auf #SoundCloud. 🌊🌬🌪🌊 https://t.co/ukCLBO98VI\", 'i have spent so much money on plane tickets these past 2 months and none of them have felt like relaxing vacations🤦🏻\\u200d♀️', '@LiddyJayKB None is always a good choice! 😉', 'RT @vickyleo6: @ajithFC Wishing u best @ajithFC auspicious today 25yrs of thala {none of the actors fan page has this much followers}💪💪💪way…', 'RT @vickyleo6: @ajithFC Wishing u best @ajithFC auspicious today 25yrs of thala {none of the actors fan page has this much followers}💪💪💪way…', 'RT @vickyleo6: @ajithFC Wishing u best @ajithFC auspicious today 25yrs of thala {none of the actors fan page has this much followers}💪💪💪way…', \"I feel so lonely when I'm watching a show on Netflix that none of my friends are watching so I can't talk about it with anyone 😂\", 'RT @WannaOne__Data: [정보]\\n\\n#케이스위스 이벤트 [사이트안내] \\n👉https://t.co/0eBKU6qVj0\\n\\n#강다니엘 #박지훈 #이대휘 #김재환 #옹성우 #박우진 #라이관린 #윤지성 #황민현 #배진영 #하성운 #워너원… ', '100% my life with no makeup \\n\\nDad: you look better with none you wear too much Kodie\\n\\nMom: have you been crying? Why is your face red?  \\n\\n😂', '⬇️⬇️⬇️ https://t.co/FL9bSl4RyM', '⬇️⬇️⬇️ https://t.co/FL9bSl4RyM', '⬇️⬇️⬇️ https://t.co/FL9bSl4RyM', \"i don't like you guys 😂😂😭😭 https://t.co/Ldf4h9Dh0d\", \"i don't like you guys 😂😂😭😭 https://t.co/Ldf4h9Dh0d\", \"i don't like you guys 😂😂😭😭 https://t.co/Ldf4h9Dh0d\", \"i don't like you guys 😂😂😭😭 https://t.co/Ldf4h9Dh0d\", 'half of this cast gone before you know it😰 https://t.co/yr9fg78x2o', 'If you have a kid we cant be nothing more than friends 👎🏽none of that', 'RT @MoxeeBrushes: ⚠⚠⚠⚠Also lip care and body care lines will NOT be affected by this sale (my prices are already so low) I mean~ none are e…', 'RT @MoxeeBrushes: ⚠⚠⚠⚠Also lip care and body care lines will NOT be affected by this sale (my prices are already so low) I mean~ none are e…', 'RT @MoxeeBrushes: ⚠⚠⚠⚠Also lip care and body care lines will NOT be affected by this sale (my prices are already so low) I mean~ none are e…', 'RT @MoxeeBrushes: ⚠⚠⚠⚠Also lip care and body care lines will NOT be affected by this sale (my prices are already so low) I mean~ none are e…', \"RT @haleyygomez: i'm attaching the vine bc none of my friends seem to understand my genius 🤦🏽\\u200d♀️ https://t.co/haJqGTd2AA\", 'awesome.. 💚 😛 https://t.co/Fsv5Ovsvzq', 'awesome.. 💚 😛 https://t.co/Fsv5Ovsvzq', \"@lawstalgia Lol none major lil bruh just sleep 🙏🏾 I ain't tryna wake em cause ik he dreaming bout nem blue faces🤷🏾\\u200d♂️\", \"@lawstalgia Lol none major lil bruh just sleep 🙏🏾 I ain't tryna wake em cause ik he dreaming bout nem blue faces🤷🏾\\u200d♂️\", 'YHOOOOO! I used to love this😅 https://t.co/1Pi1TCa91Z', 'I am so excited for Caribana so I can do NONE of the Caribana activities and rest in my house. #longweekend 🎉 https://t.co/0PHrhcQXUX', 'I wish a lot of other niggas think like this😬 https://t.co/FXGZ53gVEb', 'RT @WannaOne__Data: [정보]\\n\\n#케이스위스 이벤트 [사이트안내] \\n👉https://t.co/0eBKU6qVj0\\n\\n#강다니엘 #박지훈 #이대휘 #김재환 #옹성우 #박우진 #라이관린 #윤지성 #황민현 #배진영 #하성운 #워너원… ']\n"
     ]
    }
   ],
   "source": [
    "vectorizer = CountVectorizer(preprocessor=preprocessor, tokenizer=tokenizer)\n",
    "fit_tr = vectorizer.fit_transform(tweet_text)\n",
    "print(vectorizer.get_feature_names())\n",
    "print(tweet_text)\n",
    "#   for word in emoji_tweets.split(): #This and following line should be removed and use regex instead.  Follow Downloads/pak-paroubek.pdf for preprocessing ideas, as well as downloads that were downloaded at a similar time\n",
    "#      if word[0:4] == 'http':\n",
    "            \n",
    "#CountVectorizer().build_tokenizer()(tweet_text) #stop_words param to 'english' once you have only Eng tweets, this was indented within for loop at the beginning of August"
   ]
  },
  {
   "cell_type": "code",
   "execution_count": null,
   "metadata": {
    "collapsed": false
   },
   "outputs": [],
   "source": [
    "\n"
   ]
  },
  {
   "cell_type": "code",
   "execution_count": null,
   "metadata": {
    "collapsed": true
   },
   "outputs": [],
   "source": []
  }
 ],
 "metadata": {
  "kernelspec": {
   "display_name": "Python 3",
   "language": "python",
   "name": "python3"
  },
  "language_info": {
   "codemirror_mode": {
    "name": "ipython",
    "version": 3
   },
   "file_extension": ".py",
   "mimetype": "text/x-python",
   "name": "python",
   "nbconvert_exporter": "python",
   "pygments_lexer": "ipython3",
   "version": "3.6.0"
  }
 },
 "nbformat": 4,
 "nbformat_minor": 2
}
