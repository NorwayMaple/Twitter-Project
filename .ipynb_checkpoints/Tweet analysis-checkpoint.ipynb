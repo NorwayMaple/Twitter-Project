{
 "cells": [
  {
   "cell_type": "code",
   "execution_count": 1,
   "metadata": {
    "collapsed": true
   },
   "outputs": [],
   "source": [
    "#Find a way to save the tweet to disk\n",
    "\n",
    "import json\n",
    "import oauth2 as oauth\n",
    "import os\n",
    "import emoji as emo\n",
    "import urllib.parse as parse\n",
    "import csv\n",
    "from sklearn.feature_extraction.text import CountVectorizer\n",
    "from stemming.porter2 import stem\n",
    "from string import punctuation\n",
    "import numpy\n",
    "import pymongo\n",
    "import re\n",
    "import unicodedata\n",
    "from sklearn.feature_extraction.text import TfidfTransformer\n",
    "from sklearn.naive_bayes import BernoulliNB, MultinomialNB"
   ]
  },
  {
   "cell_type": "code",
   "execution_count": 2,
   "metadata": {
    "collapsed": false
   },
   "outputs": [],
   "source": [
    "#This function will use an online ready-made dictionary to find the sentiment of an emoji\n",
    "\n",
    "#load csv info into dictionary\n",
    "emoji_scores = {}\n",
    "with open('Emoji_Sentiment_Data_v1.0.csv', newline = '') as emoji_csv:\n",
    "    emoji_reader = csv.reader(emoji_csv)\n",
    "    next(emoji_reader, None)\n",
    "    for row in emoji_reader:\n",
    "        emoji = row[0]\n",
    "        neg_score = float(int(row[4])/int(row[2]))\n",
    "        neut_score = float(int(row[5])/int(row[2]))\n",
    "        pos_score = float(int(row[6])/int(row[2]))\n",
    "        sent_score = (-1 * neg_score + pos_score) - .305\n",
    "        emoji_scores[emoji] = sent_score\n",
    "        \n",
    "#print(emoji_scores)\n",
    "        "
   ]
  },
  {
   "cell_type": "code",
   "execution_count": 3,
   "metadata": {
    "collapsed": false
   },
   "outputs": [
    {
     "ename": "ValueError",
     "evalue": "Key and secret must be set.",
     "output_type": "error",
     "traceback": [
      "\u001b[0;31m---------------------------------------------------------------------------\u001b[0m",
      "\u001b[0;31mValueError\u001b[0m                                Traceback (most recent call last)",
      "\u001b[0;32m<ipython-input-3-5d8a71b47c64>\u001b[0m in \u001b[0;36m<module>\u001b[0;34m()\u001b[0m\n\u001b[1;32m      5\u001b[0m \u001b[0maccess_token_secret\u001b[0m \u001b[0;34m=\u001b[0m \u001b[0mos\u001b[0m\u001b[0;34m.\u001b[0m\u001b[0menviron\u001b[0m\u001b[0;34m.\u001b[0m\u001b[0mget\u001b[0m\u001b[0;34m(\u001b[0m\u001b[0;34m'ACCESS_TOKEN_SECRET'\u001b[0m\u001b[0;34m)\u001b[0m\u001b[0;34m\u001b[0m\u001b[0m\n\u001b[1;32m      6\u001b[0m \u001b[0;34m\u001b[0m\u001b[0m\n\u001b[0;32m----> 7\u001b[0;31m \u001b[0mconsumer\u001b[0m \u001b[0;34m=\u001b[0m \u001b[0moauth\u001b[0m\u001b[0;34m.\u001b[0m\u001b[0mConsumer\u001b[0m\u001b[0;34m(\u001b[0m\u001b[0mkey\u001b[0m\u001b[0;34m=\u001b[0m\u001b[0mconsumer_key\u001b[0m\u001b[0;34m,\u001b[0m \u001b[0msecret\u001b[0m\u001b[0;34m=\u001b[0m\u001b[0mconsumer_secret\u001b[0m\u001b[0;34m)\u001b[0m\u001b[0;34m\u001b[0m\u001b[0m\n\u001b[0m\u001b[1;32m      8\u001b[0m \u001b[0maccess_token\u001b[0m \u001b[0;34m=\u001b[0m \u001b[0moauth\u001b[0m\u001b[0;34m.\u001b[0m\u001b[0mToken\u001b[0m\u001b[0;34m(\u001b[0m\u001b[0mkey\u001b[0m\u001b[0;34m=\u001b[0m\u001b[0maccess_token\u001b[0m\u001b[0;34m,\u001b[0m \u001b[0msecret\u001b[0m\u001b[0;34m=\u001b[0m\u001b[0maccess_token_secret\u001b[0m\u001b[0;34m)\u001b[0m\u001b[0;34m\u001b[0m\u001b[0m\n\u001b[1;32m      9\u001b[0m \u001b[0mclient\u001b[0m \u001b[0;34m=\u001b[0m \u001b[0moauth\u001b[0m\u001b[0;34m.\u001b[0m\u001b[0mClient\u001b[0m\u001b[0;34m(\u001b[0m\u001b[0mconsumer\u001b[0m\u001b[0;34m,\u001b[0m \u001b[0maccess_token\u001b[0m\u001b[0;34m)\u001b[0m\u001b[0;34m\u001b[0m\u001b[0m\n",
      "\u001b[0;32m/Users/Abe/anaconda3/lib/python3.6/site-packages/oauth2/__init__.py\u001b[0m in \u001b[0;36m__init__\u001b[0;34m(self, key, secret)\u001b[0m\n\u001b[1;32m    207\u001b[0m \u001b[0;34m\u001b[0m\u001b[0m\n\u001b[1;32m    208\u001b[0m         \u001b[0;32mif\u001b[0m \u001b[0mself\u001b[0m\u001b[0;34m.\u001b[0m\u001b[0mkey\u001b[0m \u001b[0;32mis\u001b[0m \u001b[0;32mNone\u001b[0m \u001b[0;32mor\u001b[0m \u001b[0mself\u001b[0m\u001b[0;34m.\u001b[0m\u001b[0msecret\u001b[0m \u001b[0;32mis\u001b[0m \u001b[0;32mNone\u001b[0m\u001b[0;34m:\u001b[0m\u001b[0;34m\u001b[0m\u001b[0m\n\u001b[0;32m--> 209\u001b[0;31m             \u001b[0;32mraise\u001b[0m \u001b[0mValueError\u001b[0m\u001b[0;34m(\u001b[0m\u001b[0;34m\"Key and secret must be set.\"\u001b[0m\u001b[0;34m)\u001b[0m\u001b[0;34m\u001b[0m\u001b[0m\n\u001b[0m\u001b[1;32m    210\u001b[0m \u001b[0;34m\u001b[0m\u001b[0m\n\u001b[1;32m    211\u001b[0m     \u001b[0;32mdef\u001b[0m \u001b[0m__str__\u001b[0m\u001b[0;34m(\u001b[0m\u001b[0mself\u001b[0m\u001b[0;34m)\u001b[0m\u001b[0;34m:\u001b[0m\u001b[0;34m\u001b[0m\u001b[0m\n",
      "\u001b[0;31mValueError\u001b[0m: Key and secret must be set."
     ]
    }
   ],
   "source": [
    "consumer_key = os.environ.get('CONSUMER_KEY')\n",
    "consumer_secret = os.environ.get('CONSUMER_SECRET')\n",
    "\n",
    "access_token = os.environ.get('ACCESS_TOKEN')\n",
    "access_token_secret = os.environ.get('ACCESS_TOKEN_SECRET')\n",
    "\n",
    "consumer = oauth.Consumer(key=consumer_key, secret=consumer_secret)\n",
    "access_token = oauth.Token(key=access_token, secret=access_token_secret)\n",
    "client = oauth.Client(consumer, access_token)\n",
    "\n",
    "\n",
    "\n",
    "emo_tweets = {}\n",
    "for i in range(0, 10):\n",
    "    params = {'q' : 'Justin Bieber', 'count' : 100, 'lang' : 'en'}\n",
    "    # See Twitter Search API documenation for description of cursoring for below if block\n",
    "    if i > 0:\n",
    "        params['max_id'] = max_id \n",
    "    timeline_endpoint_baseuri = 'https://api.twitter.com/1.1/search/tweets.json?'\n",
    "    timeline_endpoint = timeline_endpoint_baseuri + parse.urlencode(params)\n",
    "    print(timeline_endpoint)\n",
    "    response, data = client.request(timeline_endpoint)\n",
    "    tweets_results = json.loads(data)\n",
    "    tweets_list = tweets_results['statuses']\n",
    "    max_id = tweets_list[len(tweets_list) - 1]['id'] - 1\n",
    "    for tweet in tweets_list:\n",
    "        tweet_emojis = []\n",
    "        for char in tweet['text']:\n",
    "            if char in emo.UNICODE_EMOJI:\n",
    "                tweet_emojis.append(char)\n",
    "        if tweet_emojis:\n",
    "            for emoji in tweet_emojis:\n",
    "                tweet_emoji_scores = []\n",
    "                try:\n",
    "                    tweet_emoji_scores.append(emoji_scores[emoji])\n",
    "                except KeyError as e:\n",
    "                    print('No emoji %s' % e)\n",
    "                    continue\n",
    "            if tweet_emoji_scores:\n",
    "                if max(tweet_emoji_scores) == max(numpy.absolute(tweet_emoji_scores)):\n",
    "                    tweet_score = max(tweet_emoji_scores)\n",
    "                else:\n",
    "                    tweet_score = min(tweet_emoji_scores)\n",
    "                emo_tweets[tweet['id']] = [tweet['text'], tweet_score]\n",
    "    print('Emoji tweets processed: ' + str(len(emo_tweets.keys())))\n",
    "            \n",
    "\n",
    "for tweet in emo_tweets.values():\n",
    "    print(tweet)\n",
    "    print()"
   ]
  },
  {
   "cell_type": "code",
   "execution_count": 8,
   "metadata": {
    "collapsed": false
   },
   "outputs": [
    {
     "name": "stdout",
     "output_type": "stream",
     "text": [
      "No emoji score for '🙄'\n",
      "No emoji score for '🙄'\n",
      "No emoji score for '🤔'\n",
      "No emoji score for '🏻'\n",
      "No emoji score for '🙄'\n",
      "No emoji score for '🙄'\n",
      "No emoji score for '🏼'\n",
      "No emoji score for '🏼'\n",
      "No emoji score for '🙄'\n",
      "No emoji score for '🙄'\n",
      "No emoji score for '🙄'\n",
      "No emoji score for '🙄'\n",
      "No emoji score for '🙄'\n",
      "No emoji score for '🙄'\n",
      "No emoji score for '🙄'\n",
      "No emoji score for '🙄'\n",
      "No emoji score for '🏻'\n",
      "No emoji score for '🏻'\n",
      "No emoji score for '🏻'\n",
      "No emoji score for '🏻'\n",
      "No emoji score for '🏼'\n",
      "[[\"RT @billboard: Justin Bieber's Purpose world tour's final numbers: Over $250 million earned 💰 https://t.co/X7ZOG7Qurm\", -0.04904761904761906], ['RT @purposusbiebs: justin bieber singing die in your arms is a blessing 😍 https://t.co/0dBsuQ3l8e', 0.37293678251297374], ['RT @ThaBieberCrew: Do you remember searching \"Justin Bieber\" on Google and this came up? 😍 #MTVHottest Justin Bieber https://t.co/mhe7uYbsko', 0.37293678251297374], ['RT @myboycrushs: If Leonardo DiCaprio and Justin Bieber had a son 😍 https://t.co/M2ccdu8QVH', 0.37293678251297374], ['RT @5secofjames: conosci..? 🎧\\n\\n34. what do you mean - justin Bieber', 0.11753521126760569], ['RT @officialjaden: I Love Justin Bieber. ❤️', 0.4410869565217392], [\"😂😂😂😂😂he was listening too  Runaway Love lmao that's that old JB when first came out when niggas wasn't really fw br… https://t.co/whN40IJHZ5\", -0.08403159622486661], [\"😂😂😂😂😂he was listening too  Runaway Love lmao that's that old JB when first came out when niggas wasn't really fw br… https://t.co/whN40IJHZ5\", -0.08403159622486661], [\"😂😂😂😂😂he was listening too  Runaway Love lmao that's that old JB when first came out when niggas wasn't really fw br… https://t.co/whN40IJHZ5\", -0.08403159622486661], [\"😂😂😂😂😂he was listening too  Runaway Love lmao that's that old JB when first came out when niggas wasn't really fw br… https://t.co/whN40IJHZ5\", -0.08403159622486661], [\"😂😂😂😂😂he was listening too  Runaway Love lmao that's that old JB when first came out when niggas wasn't really fw br… https://t.co/whN40IJHZ5\", -0.08403159622486661], ['RT @officialjaden: I Love Justin Bieber. ❤️', 0.4410869565217392], ['RT @ThaBieberCrew: Do you remember searching \"Justin Bieber\" on Google and this came up? 😍 #MTVHottest Justin Bieber https://t.co/mhe7uYbsko', 0.37293678251297374], [\"RT @billboard: Justin Bieber's Purpose world tour's final numbers: Over $250 million earned 💰 https://t.co/X7ZOG7Qurm\", -0.04904761904761906], [\"RT @billboard: Justin Bieber's Purpose world tour's final numbers: Over $250 million earned 💰 https://t.co/X7ZOG7Qurm\", -0.04904761904761906], [\"RT @billboard: Justin Bieber's Purpose world tour's final numbers: Over $250 million earned 💰 https://t.co/X7ZOG7Qurm\", -0.04904761904761906], ['RT @jdbfollowhelp: If you want @justinbieber follow 👇 \\n\\n1)Turn My Notif On \\n2)always retweet nd like whenever i retweet something\\n\\n#MTVHott…', -0.049680851063829745], ['RT @officialjaden: I Love Justin Bieber. ❤️', 0.4410869565217392], ['RT @purposusbiebs: justin bieber singing die in your arms is a blessing 😍 https://t.co/0dBsuQ3l8e', 0.37293678251297374], ['RT @officialjaden: I Love Justin Bieber. ❤️', 0.4410869565217392], ['RT @myboycrushs: If Leonardo DiCaprio and Justin Bieber had a son 😍 https://t.co/M2ccdu8QVH', 0.37293678251297374], ['RT @officialjaden: I Love Justin Bieber. ❤️', 0.4410869565217392], ['Happiest Birthday @KylieJenner ❤️\\n\\n#MTVHottest Justin Bieber https://t.co/QSZsnjHSvc', 0.4410869565217392], ['RT @JBPhilippines: Happiest Birthday @KylieJenner ❤️\\n\\n#MTVHottest Justin Bieber https://t.co/QSZsnjHSvc', 0.4410869565217392], [\"he's the cutest i js love him so much 😭😭😭 https://t.co/v6C5oWwQtI\", -0.3983767643865364], [\"he's the cutest i js love him so much 😭😭😭 https://t.co/v6C5oWwQtI\", -0.3983767643865364], [\"he's the cutest i js love him so much 😭😭😭 https://t.co/v6C5oWwQtI\", -0.3983767643865364], ['RT @JBPhilippines: Happiest Birthday @KylieJenner ❤️\\n\\n#MTVHottest Justin Bieber https://t.co/QSZsnjHSvc', 0.4410869565217392], ['RT @officialjaden: I Love Justin Bieber. ❤️', 0.4410869565217392], [\"RT @billboard: Justin Bieber's Purpose world tour's final numbers: Over $250 million earned 💰 https://t.co/X7ZOG7Qurm\", -0.04904761904761906], ['RT @JBPhilippines: Happiest Birthday @KylieJenner ❤️\\n\\n#MTVHottest Justin Bieber https://t.co/QSZsnjHSvc', 0.4410869565217392], ['RT @JBPhilippines: Happiest Birthday @KylieJenner ❤️\\n\\n#MTVHottest Justin Bieber https://t.co/QSZsnjHSvc', 0.4410869565217392], ['RT @JBPhilippines: Happiest Birthday @KylieJenner ❤️\\n\\n#MTVHottest Justin Bieber https://t.co/QSZsnjHSvc', 0.4410869565217392], ['RT @JBPhilippines: Happiest Birthday @KylieJenner ❤️\\n\\n#MTVHottest Justin Bieber https://t.co/QSZsnjHSvc', 0.4410869565217392], [\"RT @billboard: Justin Bieber's Purpose world tour's final numbers: Over $250 million earned 💰 https://t.co/X7ZOG7Qurm\", -0.04904761904761906], ['@jessbieber_00 @valearaya1999 😂😂😂\\n#MTVHottest Justin Bieber', -0.08403159622486661], ['@jessbieber_00 @valearaya1999 😂😂😂\\n#MTVHottest Justin Bieber', -0.08403159622486661], ['@jessbieber_00 @valearaya1999 😂😂😂\\n#MTVHottest Justin Bieber', -0.08403159622486661], ['RT @ThaBieberCrew: Do you remember searching \"Justin Bieber\" on Google and this came up? 😍 #MTVHottest Justin Bieber https://t.co/mhe7uYbsko', 0.37293678251297374], ['RT @officialjaden: I Love Justin Bieber. ❤️', 0.4410869565217392], ['RT @officialjaden: I Love Justin Bieber. ❤️', 0.4410869565217392], ['RT @purposusbiebs: justin bieber singing die in your arms is a blessing 😍 https://t.co/0dBsuQ3l8e', 0.37293678251297374], ['RT @JBPhilippines: Happiest Birthday @KylieJenner ❤️\\n\\n#MTVHottest Justin Bieber https://t.co/QSZsnjHSvc', 0.4410869565217392], ['RT @JBPhilippines: Happiest Birthday @KylieJenner ❤️\\n\\n#MTVHottest Justin Bieber https://t.co/QSZsnjHSvc', 0.4410869565217392], ['❤️❤️❤️ Justin Bieber - Company https://t.co/bitWNiPiRx', 0.4410869565217392], ['❤️❤️❤️ Justin Bieber - Company https://t.co/bitWNiPiRx', 0.4410869565217392], ['❤️❤️❤️ Justin Bieber - Company https://t.co/bitWNiPiRx', 0.4410869565217392], ['Happy Birthday Kylie 😊❤ with no/(you know what)  @lexi_vvv https://t.co/dgOfdlvU7d', 0.3396955430006278], ['Happy Birthday Kylie 😊❤ with no/(you know what)  @lexi_vvv https://t.co/dgOfdlvU7d', 0.4410869565217392], ['STOP 💀 https://t.co/YGbcHl4qdQ', -0.5133333333333334], ['RT @purposusbiebs: justin bieber singing die in your arms is a blessing 😍 https://t.co/0dBsuQ3l8e', 0.37293678251297374], ['RT @JBPhilippines: Happiest Birthday @KylieJenner ❤️\\n\\n#MTVHottest Justin Bieber https://t.co/QSZsnjHSvc', 0.4410869565217392], ['RT @queenbieber34: @jessbieber_00 @valearaya1999 😂😂😂\\n#MTVHottest Justin Bieber', -0.08403159622486661], ['RT @queenbieber34: @jessbieber_00 @valearaya1999 😂😂😂\\n#MTVHottest Justin Bieber', -0.08403159622486661], ['RT @queenbieber34: @jessbieber_00 @valearaya1999 😂😂😂\\n#MTVHottest Justin Bieber', -0.08403159622486661], ['❤💜#Books #Magazine JUSTIN BIEBER 15a20 MEXICO MAGAZINE! NEW! #JustinBieber #Book https://t.co/dmJq96HwJa…… https://t.co/rseigFmoeh', 0.4410869565217392], ['❤💜#Books #Magazine JUSTIN BIEBER 15a20 MEXICO MAGAZINE! NEW! #JustinBieber #Book https://t.co/dmJq96HwJa…… https://t.co/rseigFmoeh', 0.3510170394036209], ['RT @JBPhilippines: Happiest Birthday @KylieJenner ❤️\\n\\n#MTVHottest Justin Bieber https://t.co/QSZsnjHSvc', 0.4410869565217392], ['RT @JustinB22319972: All around the world...people want to be followed by @justinbieber 😋 #MtvHottest Justin Bieber', 0.3285149863760219], ['RT @JBPhilippines: Happiest Birthday @KylieJenner ❤️\\n\\n#MTVHottest Justin Bieber https://t.co/QSZsnjHSvc', 0.4410869565217392], ['RT @JBPhilippines: Happiest Birthday @KylieJenner ❤️\\n\\n#MTVHottest Justin Bieber https://t.co/QSZsnjHSvc', 0.4410869565217392], [\"RT @Em_Can_Believe: @AlexBizzle94 @JAY4EVER0103 Never say never, don't give up and believe 🙏\\n#MTVHottest Justin Bieber\", 0.11280376868096165], [\"RT @billboard: Justin Bieber's Purpose world tour's final numbers: Over $250 million earned 💰 https://t.co/X7ZOG7Qurm\", -0.04904761904761906], ['RT @WorldOfSinging: Justin Bieber January 2007 - January 2017 (Part 2) 🌹🔥🎶 https://t.co/MEMpOycsIk', 0.30546511627906975], ['RT @WorldOfSinging: Justin Bieber January 2007 - January 2017 (Part 2) 🌹🔥🎶 https://t.co/MEMpOycsIk', -0.16521505376344087], ['RT @WorldOfSinging: Justin Bieber January 2007 - January 2017 (Part 2) 🌹🔥🎶 https://t.co/MEMpOycsIk', 0.23422967189728955], ['RT @ThaBieberCrew: Do you remember searching \"Justin Bieber\" on Google and this came up? 😍 #MTVHottest Justin Bieber https://t.co/mhe7uYbsko', 0.37293678251297374], ['RT @officialjaden: I Love Justin Bieber. ❤️', 0.4410869565217392], ['RT @officialjaden: I Love Justin Bieber. ❤️', 0.4410869565217392], [\"RT @billboard: Justin Bieber's Purpose world tour's final numbers: Over $250 million earned 💰 https://t.co/X7ZOG7Qurm\", -0.04904761904761906], ['RT @JBPhilippines: Happiest Birthday @KylieJenner ❤️\\n\\n#MTVHottest Justin Bieber https://t.co/QSZsnjHSvc', 0.4410869565217392], ['RT @JBPhilippines: Happiest Birthday @KylieJenner ❤️\\n\\n#MTVHottest Justin Bieber https://t.co/QSZsnjHSvc', 0.4410869565217392], ['RT @Larabuser1: #MTVHottest Justin Bieber\\n@justinbieber ❤', 0.4410869565217392], ['RT @JBPhilippines: Happiest Birthday @KylieJenner ❤️\\n\\n#MTVHottest Justin Bieber https://t.co/QSZsnjHSvc', 0.4410869565217392], [\"RT @billboard: Justin Bieber's Purpose world tour's final numbers: Over $250 million earned 💰 https://t.co/X7ZOG7Qurm\", -0.04904761904761906], [\"RT @billboard: Justin Bieber's Purpose world tour's final numbers: Over $250 million earned 💰 https://t.co/X7ZOG7Qurm\", -0.04904761904761906], ['RT @ascaniospread: You mean to tell me neither on of these people are justin bieber 😕 https://t.co/TSZ5Zz0cuZ', -0.705], ['RT @JBPhilippines: Happiest Birthday @KylieJenner ❤️\\n\\n#MTVHottest Justin Bieber https://t.co/QSZsnjHSvc', 0.4410869565217392], ['HHAHAHA WTF!!!!!!!!!! 😂😂😂😂😂😂😂😂\\nBIGGEST LIE IN HISTORY 😂😂👏🏻💀. U R SO FUNNY 😂😂😂😂😂😂😂😂😂😂😂😂😂 https://t.co/OqMdtnO4Mq', -0.08403159622486661], ['HHAHAHA WTF!!!!!!!!!! 😂😂😂😂😂😂😂😂\\nBIGGEST LIE IN HISTORY 😂😂👏🏻💀. U R SO FUNNY 😂😂😂😂😂😂😂😂😂😂😂😂😂 https://t.co/OqMdtnO4Mq', -0.08403159622486661], ['HHAHAHA WTF!!!!!!!!!! 😂😂😂😂😂😂😂😂\\nBIGGEST LIE IN HISTORY 😂😂👏🏻💀. U R SO FUNNY 😂😂😂😂😂😂😂😂😂😂😂😂😂 https://t.co/OqMdtnO4Mq', -0.08403159622486661], ['HHAHAHA WTF!!!!!!!!!! 😂😂😂😂😂😂😂😂\\nBIGGEST LIE IN HISTORY 😂😂👏🏻💀. U R SO FUNNY 😂😂😂😂😂😂😂😂😂😂😂😂😂 https://t.co/OqMdtnO4Mq', -0.08403159622486661], ['HHAHAHA WTF!!!!!!!!!! 😂😂😂😂😂😂😂😂\\nBIGGEST LIE IN HISTORY 😂😂👏🏻💀. U R SO FUNNY 😂😂😂😂😂😂😂😂😂😂😂😂😂 https://t.co/OqMdtnO4Mq', -0.08403159622486661], ['HHAHAHA WTF!!!!!!!!!! 😂😂😂😂😂😂😂😂\\nBIGGEST LIE IN HISTORY 😂😂👏🏻💀. U R SO FUNNY 😂😂😂😂😂😂😂😂😂😂😂😂😂 https://t.co/OqMdtnO4Mq', -0.08403159622486661], ['HHAHAHA WTF!!!!!!!!!! 😂😂😂😂😂😂😂😂\\nBIGGEST LIE IN HISTORY 😂😂👏🏻💀. U R SO FUNNY 😂😂😂😂😂😂😂😂😂😂😂😂😂 https://t.co/OqMdtnO4Mq', -0.08403159622486661], ['HHAHAHA WTF!!!!!!!!!! 😂😂😂😂😂😂😂😂\\nBIGGEST LIE IN HISTORY 😂😂👏🏻💀. U R SO FUNNY 😂😂😂😂😂😂😂😂😂😂😂😂😂 https://t.co/OqMdtnO4Mq', -0.08403159622486661], ['HHAHAHA WTF!!!!!!!!!! 😂😂😂😂😂😂😂😂\\nBIGGEST LIE IN HISTORY 😂😂👏🏻💀. U R SO FUNNY 😂😂😂😂😂😂😂😂😂😂😂😂😂 https://t.co/OqMdtnO4Mq', -0.08403159622486661], ['HHAHAHA WTF!!!!!!!!!! 😂😂😂😂😂😂😂😂\\nBIGGEST LIE IN HISTORY 😂😂👏🏻💀. U R SO FUNNY 😂😂😂😂😂😂😂😂😂😂😂😂😂 https://t.co/OqMdtnO4Mq', -0.08403159622486661], ['HHAHAHA WTF!!!!!!!!!! 😂😂😂😂😂😂😂😂\\nBIGGEST LIE IN HISTORY 😂😂👏🏻💀. U R SO FUNNY 😂😂😂😂😂😂😂😂😂😂😂😂😂 https://t.co/OqMdtnO4Mq', 0.21554794520547943], ['HHAHAHA WTF!!!!!!!!!! 😂😂😂😂😂😂😂😂\\nBIGGEST LIE IN HISTORY 😂😂👏🏻💀. U R SO FUNNY 😂😂😂😂😂😂😂😂😂😂😂😂😂 https://t.co/OqMdtnO4Mq', -0.5133333333333334], ['HHAHAHA WTF!!!!!!!!!! 😂😂😂😂😂😂😂😂\\nBIGGEST LIE IN HISTORY 😂😂👏🏻💀. U R SO FUNNY 😂😂😂😂😂😂😂😂😂😂😂😂😂 https://t.co/OqMdtnO4Mq', -0.08403159622486661], ['HHAHAHA WTF!!!!!!!!!! 😂😂😂😂😂😂😂😂\\nBIGGEST LIE IN HISTORY 😂😂👏🏻💀. U R SO FUNNY 😂😂😂😂😂😂😂😂😂😂😂😂😂 https://t.co/OqMdtnO4Mq', -0.08403159622486661], ['HHAHAHA WTF!!!!!!!!!! 😂😂😂😂😂😂😂😂\\nBIGGEST LIE IN HISTORY 😂😂👏🏻💀. U R SO FUNNY 😂😂😂😂😂😂😂😂😂😂😂😂😂 https://t.co/OqMdtnO4Mq', -0.08403159622486661], ['HHAHAHA WTF!!!!!!!!!! 😂😂😂😂😂😂😂😂\\nBIGGEST LIE IN HISTORY 😂😂👏🏻💀. U R SO FUNNY 😂😂😂😂😂😂😂😂😂😂😂😂😂 https://t.co/OqMdtnO4Mq', -0.08403159622486661], ['HHAHAHA WTF!!!!!!!!!! 😂😂😂😂😂😂😂😂\\nBIGGEST LIE IN HISTORY 😂😂👏🏻💀. U R SO FUNNY 😂😂😂😂😂😂😂😂😂😂😂😂😂 https://t.co/OqMdtnO4Mq', -0.08403159622486661], ['HHAHAHA WTF!!!!!!!!!! 😂😂😂😂😂😂😂😂\\nBIGGEST LIE IN HISTORY 😂😂👏🏻💀. U R SO FUNNY 😂😂😂😂😂😂😂😂😂😂😂😂😂 https://t.co/OqMdtnO4Mq', -0.08403159622486661], ['HHAHAHA WTF!!!!!!!!!! 😂😂😂😂😂😂😂😂\\nBIGGEST LIE IN HISTORY 😂😂👏🏻💀. U R SO FUNNY 😂😂😂😂😂😂😂😂😂😂😂😂😂 https://t.co/OqMdtnO4Mq', -0.08403159622486661], ['HHAHAHA WTF!!!!!!!!!! 😂😂😂😂😂😂😂😂\\nBIGGEST LIE IN HISTORY 😂😂👏🏻💀. U R SO FUNNY 😂😂😂😂😂😂😂😂😂😂😂😂😂 https://t.co/OqMdtnO4Mq', -0.08403159622486661], ['HHAHAHA WTF!!!!!!!!!! 😂😂😂😂😂😂😂😂\\nBIGGEST LIE IN HISTORY 😂😂👏🏻💀. U R SO FUNNY 😂😂😂😂😂😂😂😂😂😂😂😂😂 https://t.co/OqMdtnO4Mq', -0.08403159622486661], ['HHAHAHA WTF!!!!!!!!!! 😂😂😂😂😂😂😂😂\\nBIGGEST LIE IN HISTORY 😂😂👏🏻💀. U R SO FUNNY 😂😂😂😂😂😂😂😂😂😂😂😂😂 https://t.co/OqMdtnO4Mq', -0.08403159622486661], ['HHAHAHA WTF!!!!!!!!!! 😂😂😂😂😂😂😂😂\\nBIGGEST LIE IN HISTORY 😂😂👏🏻💀. U R SO FUNNY 😂😂😂😂😂😂😂😂😂😂😂😂😂 https://t.co/OqMdtnO4Mq', -0.08403159622486661], ['HHAHAHA WTF!!!!!!!!!! 😂😂😂😂😂😂😂😂\\nBIGGEST LIE IN HISTORY 😂😂👏🏻💀. U R SO FUNNY 😂😂😂😂😂😂😂😂😂😂😂😂😂 https://t.co/OqMdtnO4Mq', -0.08403159622486661], ['HHAHAHA WTF!!!!!!!!!! 😂😂😂😂😂😂😂😂\\nBIGGEST LIE IN HISTORY 😂😂👏🏻💀. U R SO FUNNY 😂😂😂😂😂😂😂😂😂😂😂😂😂 https://t.co/OqMdtnO4Mq', -0.08403159622486661], ['my fav ✨ https://t.co/UKCX1dFIdh', 0.047594339622641535], ['RT @officialjaden: I Love Justin Bieber. ❤️', 0.4410869565217392], ['RT @elena_bieber01: Awwww this cutie 😍😍😍 \\n#MTVHottest Justin Bieber https://t.co/fvq2bZXGN2', 0.37293678251297374], ['RT @elena_bieber01: Awwww this cutie 😍😍😍 \\n#MTVHottest Justin Bieber https://t.co/fvq2bZXGN2', 0.37293678251297374], ['RT @elena_bieber01: Awwww this cutie 😍😍😍 \\n#MTVHottest Justin Bieber https://t.co/fvq2bZXGN2', 0.37293678251297374], ['RT @backupbieberbra: deannajenkins via Instagram: \\n\"#tbt sinto falta da equipe ❤ #purposetourstadiums #família.\"\\n\\n#MTVHottest Justin Bie… ', 0.4410869565217392], ['RT @BriyihtDayana: @beliebersoff6 Confident😍\\n#MTVHottest Justin Bieber', 0.37293678251297374], ['RT @officialjaden: I Love Justin Bieber. ❤️', 0.4410869565217392], ['RT @officialjaden: I Love Justin Bieber. ❤️', 0.4410869565217392], ['RT @purposusbiebs: justin bieber singing die in your arms is a blessing 😍 https://t.co/0dBsuQ3l8e', 0.37293678251297374], ['RT @officialjaden: I Love Justin Bieber. ❤️', 0.4410869565217392], ['RT @JBPhilippines: Happiest Birthday @KylieJenner ❤️\\n\\n#MTVHottest Justin Bieber https://t.co/QSZsnjHSvc', 0.4410869565217392], ['RT @ascaniospread: You mean to tell me neither on of these people are justin bieber 😕 https://t.co/TSZ5Zz0cuZ', -0.705], ['RT @purposusbiebs: justin bieber singing die in your arms is a blessing 😍 https://t.co/0dBsuQ3l8e', 0.37293678251297374], ['RT @purposusbiebs: justin bieber singing die in your arms is a blessing 😍 https://t.co/0dBsuQ3l8e', 0.37293678251297374], ['JUSTIN BIEBER 💓 https://t.co/Bfi9y7zfPc', 0.3668146718146718], ['RT @officialjaden: I Love Justin Bieber. ❤️', 0.4410869565217392], ['RT @eunhaeday: Well, people say, couples tend to be similar👀 https://t.co/9UwumN8eIJ', -0.24158536585365856], ['RT @ThaBieberCrew: Do you remember searching \"Justin Bieber\" on Google and this came up? 😍 #MTVHottest Justin Bieber https://t.co/mhe7uYbsko', 0.37293678251297374], [\"RT @AimyZiversons: so guys Idk wth I'm doing at 3:50AM ? but Good morning sunshine💙\\nhow r we doing? ofc we r winning we r beliebers!\\n#MTVHo…\", 0.42745614035087715], ['Favorite song💖 https://t.co/BqHHxCDz6d', 0.4083808392715756], ['RT @JBPhilippines: Happiest Birthday @KylieJenner ❤️\\n\\n#MTVHottest Justin Bieber https://t.co/QSZsnjHSvc', 0.4410869565217392], [\"RT @billboard: Justin Bieber's Purpose world tour's final numbers: Over $250 million earned 💰 https://t.co/X7ZOG7Qurm\", -0.04904761904761906], [\"RT @BieberAlanFan: @justinbieber Justin Bieber's beautiful speech last tonight 🙏🏼I love him so much!😭😭😩💜💛🇬🇧  #OneLoveManchester\\xa0 https://t.…\", 0.11280376868096165], [\"RT @BieberAlanFan: @justinbieber Justin Bieber's beautiful speech last tonight 🙏🏼I love him so much!😭😭😩💜💛🇬🇧  #OneLoveManchester\\xa0 https://t.…\", -0.3983767643865364], [\"RT @BieberAlanFan: @justinbieber Justin Bieber's beautiful speech last tonight 🙏🏼I love him so much!😭😭😩💜💛🇬🇧  #OneLoveManchester\\xa0 https://t.…\", -0.3983767643865364], [\"RT @BieberAlanFan: @justinbieber Justin Bieber's beautiful speech last tonight 🙏🏼I love him so much!😭😭😩💜💛🇬🇧  #OneLoveManchester\\xa0 https://t.…\", -0.6733628318584071], [\"RT @BieberAlanFan: @justinbieber Justin Bieber's beautiful speech last tonight 🙏🏼I love him so much!😭😭😩💜💛🇬🇧  #OneLoveManchester\\xa0 https://t.…\", 0.3510170394036209], [\"RT @BieberAlanFan: @justinbieber Justin Bieber's beautiful speech last tonight 🙏🏼I love him so much!😭😭😩💜💛🇬🇧  #OneLoveManchester\\xa0 https://t.…\", 0.40762458471760804], ['RT @officialjaden: I Love Justin Bieber. ❤️', 0.4410869565217392], ['@justinbieber follows me please 😭😭😭😭\\nI really like you😭😭😭\\n#MTVHottest Justin Bieber https://t.co/JIW8qy86mQ', -0.3983767643865364], ['@justinbieber follows me please 😭😭😭😭\\nI really like you😭😭😭\\n#MTVHottest Justin Bieber https://t.co/JIW8qy86mQ', -0.3983767643865364], ['@justinbieber follows me please 😭😭😭😭\\nI really like you😭😭😭\\n#MTVHottest Justin Bieber https://t.co/JIW8qy86mQ', -0.3983767643865364], ['@justinbieber follows me please 😭😭😭😭\\nI really like you😭😭😭\\n#MTVHottest Justin Bieber https://t.co/JIW8qy86mQ', -0.3983767643865364], ['@justinbieber follows me please 😭😭😭😭\\nI really like you😭😭😭\\n#MTVHottest Justin Bieber https://t.co/JIW8qy86mQ', -0.3983767643865364], ['@justinbieber follows me please 😭😭😭😭\\nI really like you😭😭😭\\n#MTVHottest Justin Bieber https://t.co/JIW8qy86mQ', -0.3983767643865364], ['@justinbieber follows me please 😭😭😭😭\\nI really like you😭😭😭\\n#MTVHottest Justin Bieber https://t.co/JIW8qy86mQ', -0.3983767643865364], ['RT @officialjaden: I Love Justin Bieber. ❤️', 0.4410869565217392], ['RT @ManiaBieber15: @justinbieber follows me please 😭😭😭😭\\nI really like you😭😭😭\\n#MTVHottest Justin Bieber https://t.co/JIW8qy86mQ', -0.3983767643865364], ['RT @ManiaBieber15: @justinbieber follows me please 😭😭😭😭\\nI really like you😭😭😭\\n#MTVHottest Justin Bieber https://t.co/JIW8qy86mQ', -0.3983767643865364], ['RT @ManiaBieber15: @justinbieber follows me please 😭😭😭😭\\nI really like you😭😭😭\\n#MTVHottest Justin Bieber https://t.co/JIW8qy86mQ', -0.3983767643865364], ['RT @ManiaBieber15: @justinbieber follows me please 😭😭😭😭\\nI really like you😭😭😭\\n#MTVHottest Justin Bieber https://t.co/JIW8qy86mQ', -0.3983767643865364], ['RT @ManiaBieber15: @justinbieber follows me please 😭😭😭😭\\nI really like you😭😭😭\\n#MTVHottest Justin Bieber https://t.co/JIW8qy86mQ', -0.3983767643865364], ['RT @ManiaBieber15: @justinbieber follows me please 😭😭😭😭\\nI really like you😭😭😭\\n#MTVHottest Justin Bieber https://t.co/JIW8qy86mQ', -0.3983767643865364], ['RT @ManiaBieber15: @justinbieber follows me please 😭😭😭😭\\nI really like you😭😭😭\\n#MTVHottest Justin Bieber https://t.co/JIW8qy86mQ', -0.3983767643865364], ['JUSTIN BIEBER IS SHAKING 😭https://t.co/j8DkjxaZoZ', -0.3983767643865364], ['RT @LuizaAlme2: ❤️😻 #MTVHottest Justin Bieber @justinbieber https://t.co/EOP2ajx2Vw', 0.4410869565217392], ['RT @LuizaAlme2: ❤️😻 #MTVHottest Justin Bieber @justinbieber https://t.co/EOP2ajx2Vw', 0.3185011990407674], ['RT @officialjaden: I Love Justin Bieber. ❤️', 0.4410869565217392], ['in the feeling live ❤ https://t.co/Lj9GZ5xLNq', 0.4410869565217392], ['RT @JBPhilippines: Happiest Birthday @KylieJenner ❤️\\n\\n#MTVHottest Justin Bieber https://t.co/QSZsnjHSvc', 0.4410869565217392], [\"RT @BieberAlanFan: @justinbieber Justin Bieber's beautiful speech last tonight 🙏🏼I love him so much!😭😭😩💜💛🇬🇧  #OneLoveManchester\\xa0 https://t.…\", 0.11280376868096165], [\"RT @BieberAlanFan: @justinbieber Justin Bieber's beautiful speech last tonight 🙏🏼I love him so much!😭😭😩💜💛🇬🇧  #OneLoveManchester\\xa0 https://t.…\", -0.3983767643865364], [\"RT @BieberAlanFan: @justinbieber Justin Bieber's beautiful speech last tonight 🙏🏼I love him so much!😭😭😩💜💛🇬🇧  #OneLoveManchester\\xa0 https://t.…\", -0.3983767643865364], [\"RT @BieberAlanFan: @justinbieber Justin Bieber's beautiful speech last tonight 🙏🏼I love him so much!😭😭😩💜💛🇬🇧  #OneLoveManchester\\xa0 https://t.…\", -0.6733628318584071], [\"RT @BieberAlanFan: @justinbieber Justin Bieber's beautiful speech last tonight 🙏🏼I love him so much!😭😭😩💜💛🇬🇧  #OneLoveManchester\\xa0 https://t.…\", 0.3510170394036209], [\"RT @BieberAlanFan: @justinbieber Justin Bieber's beautiful speech last tonight 🙏🏼I love him so much!😭😭😩💜💛🇬🇧  #OneLoveManchester\\xa0 https://t.…\", 0.40762458471760804], ['dis really diplo 😂 https://t.co/wAqU2K4Sao', -0.08403159622486661], ['RT @officialjaden: I Love Justin Bieber. ❤️', 0.4410869565217392], ['RT @bizzIedoIIars: in the feeling live ❤ https://t.co/Lj9GZ5xLNq', 0.4410869565217392], ['On Air\\n 🎧 Major Lazer feat. Justin Bieber &amp; M0 - Cold Water ♫ https://t.co/kOG7DBfCpR', 0.11753521126760569], ['RT @JBPhilippines: Happiest Birthday @KylieJenner ❤️\\n\\n#MTVHottest Justin Bieber https://t.co/QSZsnjHSvc', 0.4410869565217392], ['RT @officialjaden: I Love Justin Bieber. ❤️', 0.4410869565217392], [\"RT @billboard: Justin Bieber's Purpose world tour's final numbers: Over $250 million earned 💰 https://t.co/X7ZOG7Qurm\", -0.04904761904761906], ['❤#JustinBieber #Buzz JUSTIN BIEBER Believe Live 2013 North American Tour T-SHIRT Size medium #Bieber #Deals…… https://t.co/XJG9vZb5uW', 0.4410869565217392], ['RT @officialjaden: I Love Justin Bieber. ❤️', 0.4410869565217392], ['RT @officialjaden: I Love Justin Bieber. ❤️', 0.4410869565217392], [\"RT @Bizzle_BadBoy: I'm fucking dead 😂😂 #MTVHottest Justin Bieber https://t.co/oZapnupUxy\", -0.08403159622486661], [\"RT @Bizzle_BadBoy: I'm fucking dead 😂😂 #MTVHottest Justin Bieber https://t.co/oZapnupUxy\", -0.08403159622486661], [\"RT @billboard: Justin Bieber's Purpose world tour's final numbers: Over $250 million earned 💰 https://t.co/X7ZOG7Qurm\", -0.04904761904761906], ['RT @IanDappy: @sarkodie 😂 some internet girl be ooo.. we want greater heights like SARK ft Justin Bieber .🙌🙌', -0.08403159622486661], ['RT @IanDappy: @sarkodie 😂 some internet girl be ooo.. we want greater heights like SARK ft Justin Bieber .🙌🙌', 0.25542496679946874], ['RT @IanDappy: @sarkodie 😂 some internet girl be ooo.. we want greater heights like SARK ft Justin Bieber .🙌🙌', 0.25542496679946874], ['9:58 pm my love, justin bieber followed me 🌟\\nthanks to the bird that poohed on my shoulder today. it gave me luck.… https://t.co/yYundMn0GE', 0.02665829145728643], [\"RT @billboard: Justin Bieber's Purpose world tour's final numbers: Over $250 million earned 💰 https://t.co/X7ZOG7Qurm\", -0.04904761904761906], ['the best😂\\n#MTVHottest Justin Bieber https://t.co/141YhzAcPn', -0.08403159622486661], ['RT @purposusbiebs: justin bieber singing die in your arms is a blessing 😍 https://t.co/0dBsuQ3l8e', 0.37293678251297374], ['RT @officialjaden: I Love Justin Bieber. ❤️', 0.4410869565217392], ['RT @officialjaden: I Love Justin Bieber. ❤️', 0.4410869565217392], ['RT @officialjaden: I Love Justin Bieber. ❤️', 0.4410869565217392], ['RT @officialjaden: I Love Justin Bieber. ❤️', 0.4410869565217392], ['RT @officialjaden: I Love Justin Bieber. ❤️', 0.4410869565217392], ['RT @WorldOfSinging: Justin Bieber January 2007 - January 2017 (Part 2) 🌹🔥🎶 https://t.co/MEMpOycsIk', 0.30546511627906975], ['RT @WorldOfSinging: Justin Bieber January 2007 - January 2017 (Part 2) 🌹🔥🎶 https://t.co/MEMpOycsIk', -0.16521505376344087], ['RT @WorldOfSinging: Justin Bieber January 2007 - January 2017 (Part 2) 🌹🔥🎶 https://t.co/MEMpOycsIk', 0.23422967189728955], ['🌸PACK JUSTIN BIEBER🌸\\n\\n🌸FAV se gostou/ like\\n🌸RT se salvou / RT if u save\\n🌸Créditos se usar/ credits if u apply\\n\\n//Ma… https://t.co/Y4QCyKMuIx', 0.34721987315010566], ['🌸PACK JUSTIN BIEBER🌸\\n\\n🌸FAV se gostou/ like\\n🌸RT se salvou / RT if u save\\n🌸Créditos se usar/ credits if u apply\\n\\n//Ma… https://t.co/Y4QCyKMuIx', 0.34721987315010566], ['🌸PACK JUSTIN BIEBER🌸\\n\\n🌸FAV se gostou/ like\\n🌸RT se salvou / RT if u save\\n🌸Créditos se usar/ credits if u apply\\n\\n//Ma… https://t.co/Y4QCyKMuIx', 0.34721987315010566], ['🌸PACK JUSTIN BIEBER🌸\\n\\n🌸FAV se gostou/ like\\n🌸RT se salvou / RT if u save\\n🌸Créditos se usar/ credits if u apply\\n\\n//Ma… https://t.co/Y4QCyKMuIx', 0.34721987315010566], ['🌸PACK JUSTIN BIEBER🌸\\n\\n🌸FAV se gostou/ like\\n🌸RT se salvou / RT if u save\\n🌸Créditos se usar/ credits if u apply\\n\\n//Ma… https://t.co/Y4QCyKMuIx', 0.34721987315010566], [\"RT @Bizzle_BadBoy: I'm fucking dead 😂😂 #MTVHottest Justin Bieber https://t.co/oZapnupUxy\", -0.08403159622486661], [\"RT @Bizzle_BadBoy: I'm fucking dead 😂😂 #MTVHottest Justin Bieber https://t.co/oZapnupUxy\", -0.08403159622486661], [\"RT @billboard: Justin Bieber's Purpose world tour's final numbers: Over $250 million earned 💰 https://t.co/X7ZOG7Qurm\", -0.04904761904761906], ['RT @purposusbiebs: justin bieber singing die in your arms is a blessing 😍 https://t.co/0dBsuQ3l8e', 0.37293678251297374], [\"RT @Bhaona_belieber: I request all beliebers plz don't do this someday I may get heart attack🙏plz.  Don't use Justin Bieber name as ur u… \", 0.11280376868096165], ['RT @purposusbiebs: justin bieber singing die in your arms is a blessing 😍 https://t.co/0dBsuQ3l8e', 0.37293678251297374], ['RT @officialjaden: I Love Justin Bieber. ❤️', 0.4410869565217392], [\"RT @billboard: Justin Bieber's Purpose world tour's final numbers: Over $250 million earned 💰 https://t.co/X7ZOG7Qurm\", -0.04904761904761906], ['woah 😱 https://t.co/80ztFZJ3pg', -0.11473451327433631], ['RT @purposusbiebs: justin bieber singing die in your arms is a blessing 😍 https://t.co/0dBsuQ3l8e', 0.37293678251297374], ['RT @mawhorld: my fav ✨ https://t.co/UKCX1dFIdh', 0.047594339622641535], ['❤ #MTVHottest Justin Bieber https://t.co/CsoNmnrTU2', 0.4410869565217392], ['RT @myboycrushs: If Leonardo DiCaprio and Justin Bieber had a son 😍 https://t.co/M2ccdu8QVH', 0.37293678251297374], ['RT @purposusbiebs: justin bieber singing die in your arms is a blessing 😍 https://t.co/0dBsuQ3l8e', 0.37293678251297374], ['RT @officialjaden: I Love Justin Bieber. ❤️', 0.4410869565217392], ['#MTVHottest Justin Bieber ♥', 0.35261478163493837], ['RT @purposusbiebs: justin bieber singing die in your arms is a blessing 😍 https://t.co/0dBsuQ3l8e', 0.37293678251297374], [\"RT @billboard: Justin Bieber's Purpose world tour's final numbers: Over $250 million earned 💰 https://t.co/X7ZOG7Qurm\", -0.04904761904761906], ['#MTVHottest Justin Bieber 🌸', 0.34721987315010566], ['RT @fmubieber__: Would anyone want to be in a belieber gc?  ♡\\n\\n#MTVHottest Justin Bieber 🌹\\n#FanArmyFaceOff #Beliebers @justinbieber 💫 https…', 0.30546511627906975], ['RT @fmubieber__: Would anyone want to be in a belieber gc?  ♡\\n\\n#MTVHottest Justin Bieber 🌹\\n#FanArmyFaceOff #Beliebers @justinbieber 💫 https…', 0.207396694214876], ['#MTVHottest Justin Bieber 🔥', -0.16521505376344087], ['RT @officialjaden: I Love Justin Bieber. ❤️', 0.4410869565217392], ['#MTVHottest Justin Bieber 🌹', 0.30546511627906975], ['Justin Bieber - #LOVE__YOURSELF 😂😂❤', -0.08403159622486661], ['Justin Bieber - #LOVE__YOURSELF 😂😂❤', -0.08403159622486661], ['Justin Bieber - #LOVE__YOURSELF 😂😂❤', 0.4410869565217392], ['#MTVHottest Justin Bieber 😻', 0.3185011990407674], ['RT @officialjaden: I Love Justin Bieber. ❤️', 0.4410869565217392], ['❤#Bieber #BestSeller JUSTIN BIEBER Believe Live 2013 North American Tour T-SHIRT Size medium #JustinBieber #Deal…… https://t.co/sIkphoxH2r', 0.4410869565217392], ['#MTVHosttest  Justin Bieber ✨', 0.047594339622641535], ['RT @bm94__: JUSTIN BIEBER IS SHAKING 😭https://t.co/j8DkjxaZoZ', -0.3983767643865364], ['THAT IS NOT DIPLO. 😩😩 https://t.co/WFhfAsBmyt', -0.6733628318584071], ['THAT IS NOT DIPLO. 😩😩 https://t.co/WFhfAsBmyt', -0.6733628318584071], ['RT @officialjaden: I Love Justin Bieber. ❤️', 0.4410869565217392], [\"RT @claudia_codrea: Justin Drew Bieber, our sunshine. He smiles we smile. Let's show the 🌏 our choice. #ChoiceBieber https://t.co/juof2UB023\", 0.05499999999999999], ['RT @officialjaden: I Love Justin Bieber. ❤️', 0.4410869565217392], ['RT @JustinB22319972: All around the world...people want to be followed by @justinbieber 😋 #MtvHottest Justin Bieber', 0.3285149863760219], ['RT @officialjaden: I Love Justin Bieber. ❤️', 0.4410869565217392], ['i love you forever 😘 https://t.co/6MEXhv0ote', 0.39675438596491236], [\"RT @believeisbiebs: ''We don't have to kiss'' 😂😂😂\\n\\n#MTVHottest Justin Bieber https://t.co/yT8gUZWlXA\", -0.08403159622486661], [\"RT @believeisbiebs: ''We don't have to kiss'' 😂😂😂\\n\\n#MTVHottest Justin Bieber https://t.co/yT8gUZWlXA\", -0.08403159622486661], [\"RT @believeisbiebs: ''We don't have to kiss'' 😂😂😂\\n\\n#MTVHottest Justin Bieber https://t.co/yT8gUZWlXA\", -0.08403159622486661], ['#MTVHottest Justin Bieber\\n@justinbieber ❤', 0.4410869565217392], ['RT @purposusbiebs: justin bieber singing die in your arms is a blessing 😍 https://t.co/0dBsuQ3l8e', 0.37293678251297374], ['#MTVHosttest Justin Bieber 🔒 https://t.co/oQoXs8sEp9', -0.09447368421052632], ['RT @purposusbiebs: justin bieber singing die in your arms is a blessing 😍 https://t.co/0dBsuQ3l8e', 0.37293678251297374], ['RT @officialjaden: I Love Justin Bieber. ❤️', 0.4410869565217392], ['RT @officialjaden: I Love Justin Bieber. ❤️', 0.4410869565217392], ['RT @_grachielaa: the best😂\\n#MTVHottest Justin Bieber https://t.co/141YhzAcPn', -0.08403159622486661], ['RT @queenbieber34: @jessbieber_00 @valearaya1999 😂😂😂\\n#MTVHottest Justin Bieber', -0.08403159622486661], ['RT @queenbieber34: @jessbieber_00 @valearaya1999 😂😂😂\\n#MTVHottest Justin Bieber', -0.08403159622486661], ['RT @queenbieber34: @jessbieber_00 @valearaya1999 😂😂😂\\n#MTVHottest Justin Bieber', -0.08403159622486661], ['RT @AccurateTexts: Leaving From Church Justin Bieber Hits Photographer With Car 😱 https://t.co/8HW4KHMwoV', -0.11473451327433631], ['RT @JBPhilippines: Happiest Birthday @KylieJenner ❤️\\n\\n#MTVHottest Justin Bieber https://t.co/QSZsnjHSvc', 0.4410869565217392], ['RT @ManiaBieber15: @justinbieber follows me please 😭😭😭😭\\nI really like you😭😭😭\\n#MTVHottest Justin Bieber https://t.co/JIW8qy86mQ', -0.3983767643865364], ['RT @ManiaBieber15: @justinbieber follows me please 😭😭😭😭\\nI really like you😭😭😭\\n#MTVHottest Justin Bieber https://t.co/JIW8qy86mQ', -0.3983767643865364], ['RT @ManiaBieber15: @justinbieber follows me please 😭😭😭😭\\nI really like you😭😭😭\\n#MTVHottest Justin Bieber https://t.co/JIW8qy86mQ', -0.3983767643865364], ['RT @ManiaBieber15: @justinbieber follows me please 😭😭😭😭\\nI really like you😭😭😭\\n#MTVHottest Justin Bieber https://t.co/JIW8qy86mQ', -0.3983767643865364], ['RT @ManiaBieber15: @justinbieber follows me please 😭😭😭😭\\nI really like you😭😭😭\\n#MTVHottest Justin Bieber https://t.co/JIW8qy86mQ', -0.3983767643865364], ['RT @ManiaBieber15: @justinbieber follows me please 😭😭😭😭\\nI really like you😭😭😭\\n#MTVHottest Justin Bieber https://t.co/JIW8qy86mQ', -0.3983767643865364], ['RT @ManiaBieber15: @justinbieber follows me please 😭😭😭😭\\nI really like you😭😭😭\\n#MTVHottest Justin Bieber https://t.co/JIW8qy86mQ', -0.3983767643865364], ['RT @merboy82: Thank fuck @pink 🙌🏻🙌🏻🙌🏻🙌🏻🌈🌈🌈🌈❤️❤️❤️❤️😂😂😂😂 https://t.co/umVV1kREOH', 0.25542496679946874], ['RT @merboy82: Thank fuck @pink 🙌🏻🙌🏻🙌🏻🙌🏻🌈🌈🌈🌈❤️❤️❤️❤️😂😂😂😂 https://t.co/umVV1kREOH', 0.25542496679946874], ['RT @merboy82: Thank fuck @pink 🙌🏻🙌🏻🙌🏻🙌🏻🌈🌈🌈🌈❤️❤️❤️❤️😂😂😂😂 https://t.co/umVV1kREOH', 0.25542496679946874], ['RT @merboy82: Thank fuck @pink 🙌🏻🙌🏻🙌🏻🙌🏻🌈🌈🌈🌈❤️❤️❤️❤️😂😂😂😂 https://t.co/umVV1kREOH', 0.25542496679946874], ['RT @merboy82: Thank fuck @pink 🙌🏻🙌🏻🙌🏻🙌🏻🌈🌈🌈🌈❤️❤️❤️❤️😂😂😂😂 https://t.co/umVV1kREOH', 0.22909090909090918], ['RT @merboy82: Thank fuck @pink 🙌🏻🙌🏻🙌🏻🙌🏻🌈🌈🌈🌈❤️❤️❤️❤️😂😂😂😂 https://t.co/umVV1kREOH', 0.22909090909090918], ['RT @merboy82: Thank fuck @pink 🙌🏻🙌🏻🙌🏻🙌🏻🌈🌈🌈🌈❤️❤️❤️❤️😂😂😂😂 https://t.co/umVV1kREOH', 0.22909090909090918], ['RT @merboy82: Thank fuck @pink 🙌🏻🙌🏻🙌🏻🙌🏻🌈🌈🌈🌈❤️❤️❤️❤️😂😂😂😂 https://t.co/umVV1kREOH', 0.22909090909090918], ['RT @merboy82: Thank fuck @pink 🙌🏻🙌🏻🙌🏻🙌🏻🌈🌈🌈🌈❤️❤️❤️❤️😂😂😂😂 https://t.co/umVV1kREOH', 0.4410869565217392], ['RT @merboy82: Thank fuck @pink 🙌🏻🙌🏻🙌🏻🙌🏻🌈🌈🌈🌈❤️❤️❤️❤️😂😂😂😂 https://t.co/umVV1kREOH', 0.4410869565217392], ['RT @merboy82: Thank fuck @pink 🙌🏻🙌🏻🙌🏻🙌🏻🌈🌈🌈🌈❤️❤️❤️❤️😂😂😂😂 https://t.co/umVV1kREOH', 0.4410869565217392], ['RT @merboy82: Thank fuck @pink 🙌🏻🙌🏻🙌🏻🙌🏻🌈🌈🌈🌈❤️❤️❤️❤️😂😂😂😂 https://t.co/umVV1kREOH', 0.4410869565217392], ['RT @merboy82: Thank fuck @pink 🙌🏻🙌🏻🙌🏻🙌🏻🌈🌈🌈🌈❤️❤️❤️❤️😂😂😂😂 https://t.co/umVV1kREOH', -0.08403159622486661], ['RT @merboy82: Thank fuck @pink 🙌🏻🙌🏻🙌🏻🙌🏻🌈🌈🌈🌈❤️❤️❤️❤️😂😂😂😂 https://t.co/umVV1kREOH', -0.08403159622486661], ['RT @merboy82: Thank fuck @pink 🙌🏻🙌🏻🙌🏻🙌🏻🌈🌈🌈🌈❤️❤️❤️❤️😂😂😂😂 https://t.co/umVV1kREOH', -0.08403159622486661], ['RT @merboy82: Thank fuck @pink 🙌🏻🙌🏻🙌🏻🙌🏻🌈🌈🌈🌈❤️❤️❤️❤️😂😂😂😂 https://t.co/umVV1kREOH', -0.08403159622486661], ['RT @officialjaden: I Love Justin Bieber. ❤️', 0.4410869565217392], ['RT @officialjaden: I Love Justin Bieber. ❤️', 0.4410869565217392], ['RT @_grachielaa: the best😂\\n#MTVHottest Justin Bieber https://t.co/141YhzAcPn', -0.08403159622486661], ['RT @officialjaden: I Love Justin Bieber. ❤️', 0.4410869565217392], ['RT @queenbieber34: @jessbieber_00 @valearaya1999 😂😂😂\\n#MTVHottest Justin Bieber', -0.08403159622486661], ['RT @queenbieber34: @jessbieber_00 @valearaya1999 😂😂😂\\n#MTVHottest Justin Bieber', -0.08403159622486661], ['RT @queenbieber34: @jessbieber_00 @valearaya1999 😂😂😂\\n#MTVHottest Justin Bieber', -0.08403159622486661], ['RT @believeisbiebs: such a cutie 💕\\ni am in love with his cap 💞\\n\\n#MTVHottest Justin Bieber https://t.co/kp31mOcjLv', 0.3279166666666667], ['RT @believeisbiebs: such a cutie 💕\\ni am in love with his cap 💞\\n\\n#MTVHottest Justin Bieber https://t.co/kp31mOcjLv', 0.43735807860262016], ['https://t.co/uedggFgGuV \\n#MTVHottest Justin Bieber 💗', 0.35409090909090907], ['💛 Justin Bieber 💛', 0.40762458471760804], ['💛 Justin Bieber 💛', 0.40762458471760804], ['RT @officialjaden: I Love Justin Bieber. ❤️', 0.4410869565217392], ['RT @purposusbiebs: justin bieber singing die in your arms is a blessing 😍 https://t.co/0dBsuQ3l8e', 0.37293678251297374], [\"RT @Rt_vs_Fav_: Rt: 2U (David Guetta ft. Justin Bieber)\\n🍃🍃🍃\\nFav: We Don't Talk Anymore (Charlie Puth ft. Selena Gomez) https://t.co/SvmM0g8…\", 0.07644329896907215], [\"RT @Rt_vs_Fav_: Rt: 2U (David Guetta ft. Justin Bieber)\\n🍃🍃🍃\\nFav: We Don't Talk Anymore (Charlie Puth ft. Selena Gomez) https://t.co/SvmM0g8…\", 0.07644329896907215], [\"RT @Rt_vs_Fav_: Rt: 2U (David Guetta ft. Justin Bieber)\\n🍃🍃🍃\\nFav: We Don't Talk Anymore (Charlie Puth ft. Selena Gomez) https://t.co/SvmM0g8…\", 0.07644329896907215], ['RT @purposusbiebs: justin bieber singing die in your arms is a blessing 😍 https://t.co/0dBsuQ3l8e', 0.37293678251297374], ['RT @martinamaione5: #MTVHottest Justin Bieber 😻', 0.3185011990407674], [\"RT @billboard: Justin Bieber's Purpose world tour's final numbers: Over $250 million earned 💰 https://t.co/X7ZOG7Qurm\", -0.04904761904761906], [\"RT @billboard: Justin Bieber's Purpose world tour's final numbers: Over $250 million earned 💰 https://t.co/X7ZOG7Qurm\", -0.04904761904761906], ['RT @officialjaden: I Love Justin Bieber. ❤️', 0.4410869565217392], ['And thats exactly why WE THE PEOPLE love you Justin Bieber ♥. Amo el Chocolate y a ella.', 0.35261478163493837], ['RT @karenwendy27: @IsTeamBiebers All the matters y confident 💕 \\n\\n#MTVHosttest Justin Bieber', 0.3279166666666667], ['nj:whats our theme for the poster?\\njin:army!!\\njhope:international kpop suunshine bts\\njk:hyung!justin bieber❤️love yourself  #LOVE__YOURSELF', 0.4410869565217392], ['\"Home To Mama\" - Justin Bieber ft. Cody Simpson Cover by Tim &amp; Bernard ⭐️ https://t.co/fFBhjL1FvM', 0.2861949685534591], ['RT @purposusbiebs: justin bieber singing die in your arms is a blessing 😍 https://t.co/0dBsuQ3l8e', 0.37293678251297374], ['RT @officialjaden: I Love Justin Bieber. ❤️', 0.4410869565217392], ['RT @purposusbiebs: justin bieber singing die in your arms is a blessing 😍 https://t.co/0dBsuQ3l8e', 0.37293678251297374], [\"RT @billboard: Justin Bieber's Purpose world tour's final numbers: Over $250 million earned 💰 https://t.co/X7ZOG7Qurm\", -0.04904761904761906], ['\"Life Is Worth Living\" - Justin Bieber Cover by Tim ⭐️ https://t.co/P4V29XtAUP', 0.2861949685534591], ['Wait what? 😧😧😧 https://t.co/rXJDKj9mKH', -0.37021739130434783], ['Wait what? 😧😧😧 https://t.co/rXJDKj9mKH', -0.37021739130434783], ['Wait what? 😧😧😧 https://t.co/rXJDKj9mKH', -0.37021739130434783], [\"RT @billboard: Justin Bieber's Purpose world tour's final numbers: Over $250 million earned 💰 https://t.co/X7ZOG7Qurm\", -0.04904761904761906], ['RT @AguierrezMaria: @IsTeamBiebers Change Me\\n\\n💜💜💜💜\\n\\n@justinbieber \\n\\n#MTVHottest Justin Bieber https://t.co/NiHM9WROqM', 0.3510170394036209], ['RT @AguierrezMaria: @IsTeamBiebers Change Me\\n\\n💜💜💜💜\\n\\n@justinbieber \\n\\n#MTVHottest Justin Bieber https://t.co/NiHM9WROqM', 0.3510170394036209], ['RT @AguierrezMaria: @IsTeamBiebers Change Me\\n\\n💜💜💜💜\\n\\n@justinbieber \\n\\n#MTVHottest Justin Bieber https://t.co/NiHM9WROqM', 0.3510170394036209], ['RT @AguierrezMaria: @IsTeamBiebers Change Me\\n\\n💜💜💜💜\\n\\n@justinbieber \\n\\n#MTVHottest Justin Bieber https://t.co/NiHM9WROqM', 0.3510170394036209], ['RT @backupbmbr: Justin Bieber via Instagram. 😍 https://t.co/f8w19emr4J', 0.37293678251297374], ['RT @c_h_a_r_m_21: nj:whats our theme for the poster?\\njin:army!!\\njhope:international kpop suunshine bts\\njk:hyung!justin bieber❤️love yoursel…', 0.4410869565217392], ['RT @ulusoy_bieber: @IsTeamBiebers All That Matters,Backpack &amp; One Life❤\\n\\n#MTVHottest Justin Bieber', 0.4410869565217392], ['justin bieber😂 https://t.co/PyCbBDiWvb', -0.08403159622486661], ['RT @c_h_a_r_m_21: nj:whats our theme for the poster?\\njin:army!!\\njhope:international kpop suunshine bts\\njk:hyung!justin bieber❤️love yoursel…', 0.4410869565217392], ['RT @SecuteBeliebs: His Smile ☺️😎\\n\\n#MTVHottest Justin Bieber https://t.co/A1CcrdgHKB', 0.3530989330746847], ['RT @SecuteBeliebs: His Smile ☺️😎\\n\\n#MTVHottest Justin Bieber https://t.co/A1CcrdgHKB', 0.188368700265252], ['RT @SecuteBeliebs: His Smile ☺️😎\\n\\n#MTVHottest Justin Bieber https://t.co/A1CcrdgHKB', 0.3530989330746847], ['RT @SecuteBeliebs: His Smile ☺️😎\\n\\n#MTVHottest Justin Bieber https://t.co/A1CcrdgHKB', 0.188368700265252], ['@IslandRecords @FallonTonight @chordoverstreet He looks like a grown up Justin Bieber. 😂', -0.08403159622486661], ['#MTVHottest Justin Bieber 🙈', 0.12769230769230772], ['❤#Bieber #Collectible Justin Bieber Door Poster #JustinBieber #Sale https://t.co/WfaOu5jUzI https://t.co/jhEQN1X7BD https://t.co/vnQceTNZAT', 0.4410869565217392], ['LEGEND ✨✨ \\n@justinbieber \\n#MTVHottest Justin Bieber https://t.co/tNhuaZUKI2', 0.047594339622641535], ['LEGEND ✨✨ \\n@justinbieber \\n#MTVHottest Justin Bieber https://t.co/tNhuaZUKI2', 0.047594339622641535], ['#MTVHottest Justin Bieber 👈', 0.12603448275862067], ['#MTVHottest Justin Bieber 💪', 0.25071327182398856], ['RT @purposusbiebs: justin bieber singing die in your arms is a blessing 😍 https://t.co/0dBsuQ3l8e', 0.37293678251297374], [\"RT @Bhaona_belieber: I request all beliebers plz don't do this someday I may get heart attack🙏plz.  Don't use Justin Bieber name as ur u… \", 0.11280376868096165], ['#MTVHottest Justin Bieber 💜', 0.3510170394036209], ['RT @fmubieber__: Would anyone want to be in a belieber gc?  ♡\\n\\n#MTVHottest Justin Bieber 🌹\\n#FanArmyFaceOff #Beliebers @justinbieber 💫 https…', 0.30546511627906975], ['RT @fmubieber__: Would anyone want to be in a belieber gc?  ♡\\n\\n#MTVHottest Justin Bieber 🌹\\n#FanArmyFaceOff #Beliebers @justinbieber 💫 https…', 0.207396694214876], ['RT @officialjaden: I Love Justin Bieber. ❤️', 0.4410869565217392], ['#MTVHottest Justin Bieber 💜', 0.3510170394036209], ['RT @c_h_a_r_m_21: nj:whats our theme for the poster?\\njin:army!!\\njhope:international kpop suunshine bts\\njk:hyung!justin bieber❤️love yoursel…', 0.4410869565217392], [\"RT @billboard: Justin Bieber's Purpose world tour's final numbers: Over $250 million earned 💰 https://t.co/X7ZOG7Qurm\", -0.04904761904761906], ['#MTVHottest Justin Bieber 💛', 0.40762458471760804], [\"RT @billboard: Justin Bieber's Purpose world tour's final numbers: Over $250 million earned 💰 https://t.co/X7ZOG7Qurm\", -0.04904761904761906], [\"RT @billboard: Justin Bieber's Purpose world tour's final numbers: Over $250 million earned 💰 https://t.co/X7ZOG7Qurm\", -0.04904761904761906], [\"RT @billboard: Justin Bieber's Purpose world tour's final numbers: Over $250 million earned 💰 https://t.co/X7ZOG7Qurm\", -0.04904761904761906], ['I liked a @YouTube video https://t.co/UkuW8LLDR5 JUSTIN BIEBER DESPACITO WITH 174 FOOTBALL PLAYERS!! 😂 LUIS FONSI DESPASITO FUNNY', -0.08403159622486661], [\"RT @claudia_codrea: Justin Drew Bieber, our sunshine. He smiles we smile. Let's show the 🌏 our choice. #ChoiceBieber https://t.co/juof2UB023\", 0.05499999999999999], ['#MTVHottest Justin Bieber 💜 https://t.co/8fIAJKXcDj', 0.3510170394036209], ['#MTVHottest Justin Bieber 💜 https://t.co/G7tUpm4qbR', 0.3510170394036209], ['RT @JBPhilippines: Happiest Birthday @KylieJenner ❤️\\n\\n#MTVHottest Justin Bieber https://t.co/QSZsnjHSvc', 0.4410869565217392], ['Justin Bieber 💥 https://t.co/9ezQ5VxTlB', -0.15606382978723404], [\"RT @claudia_codrea: Justin Drew Bieber, our sunshine. He smiles we smile. Let's show the 🌏 our choice. #ChoiceBieber https://t.co/juof2UB023\", 0.05499999999999999], ['#MTVHottest Justin Bieber 💜 https://t.co/OjlAymqU5D', 0.3510170394036209], ['RT @purposusbiebs: justin bieber singing die in your arms is a blessing 😍 https://t.co/0dBsuQ3l8e', 0.37293678251297374], [\"RT @billboard: Justin Bieber's Purpose world tour's final numbers: Over $250 million earned 💰 https://t.co/X7ZOG7Qurm\", -0.04904761904761906], ['RT @purposusbiebs: justin bieber singing die in your arms is a blessing 😍 https://t.co/0dBsuQ3l8e', 0.37293678251297374], ['#MTVHottest Justin Bieber 💘💘 https://t.co/n72QVYrLX3', 0.3836075949367089], ['#MTVHottest Justin Bieber 💘💘 https://t.co/n72QVYrLX3', 0.3836075949367089], [\"RT @BieberAlanFan: @justinbieber Justin Bieber's beautiful speech last tonight 🙏🏼I love him so much!😭😭😩💜💛🇬🇧  #OneLoveManchester\\xa0 https://t.…\", 0.11280376868096165], [\"RT @BieberAlanFan: @justinbieber Justin Bieber's beautiful speech last tonight 🙏🏼I love him so much!😭😭😩💜💛🇬🇧  #OneLoveManchester\\xa0 https://t.…\", -0.3983767643865364], [\"RT @BieberAlanFan: @justinbieber Justin Bieber's beautiful speech last tonight 🙏🏼I love him so much!😭😭😩💜💛🇬🇧  #OneLoveManchester\\xa0 https://t.…\", -0.3983767643865364], [\"RT @BieberAlanFan: @justinbieber Justin Bieber's beautiful speech last tonight 🙏🏼I love him so much!😭😭😩💜💛🇬🇧  #OneLoveManchester\\xa0 https://t.…\", -0.6733628318584071], [\"RT @BieberAlanFan: @justinbieber Justin Bieber's beautiful speech last tonight 🙏🏼I love him so much!😭😭😩💜💛🇬🇧  #OneLoveManchester\\xa0 https://t.…\", 0.3510170394036209], [\"RT @BieberAlanFan: @justinbieber Justin Bieber's beautiful speech last tonight 🙏🏼I love him so much!😭😭😩💜💛🇬🇧  #OneLoveManchester\\xa0 https://t.…\", 0.40762458471760804], ['RT @officialjaden: I Love Justin Bieber. ❤️', 0.4410869565217392], ['RT @officialjaden: I Love Justin Bieber. ❤️', 0.4410869565217392], [\"RT @billboard: Justin Bieber's Purpose world tour's final numbers: Over $250 million earned 💰 https://t.co/X7ZOG7Qurm\", -0.04904761904761906], [\"RT @billboard: Justin Bieber's Purpose world tour's final numbers: Over $250 million earned 💰 https://t.co/X7ZOG7Qurm\", -0.04904761904761906], ['RT @CassieLeachh: wtf..... Porter speaks to my soul, how could you EVER compare the two 💀 https://t.co/kjm2qngRov', -0.5133333333333334]]\n"
     ]
    }
   ],
   "source": [
    "# text preprocessing (partially from before partially from August)\n",
    "mongo_uri = 'mongodb://heroku_xgnhblcr:' + os.environ.get('MONGODB_PASSWORD') + '@ds149511.mlab.com:49511/heroku_xgnhblcr'\n",
    "client = pymongo.MongoClient(mongo_uri)\n",
    "db = client.get_default_database()\n",
    "myresults = list(db.Justin_Bieber.find())\n",
    "tweets = []\n",
    "emoji_tweets = []\n",
    "for entry in myresults:\n",
    "    tweets.append(entry['text'])\n",
    "#Doing the next part based on the earlier REST-API-using cell\n",
    "for tweet in tweets:\n",
    "    tweet_emojis = []\n",
    "    for char in tweet:\n",
    "        if char in emo.UNICODE_EMOJI:\n",
    "            tweet_emojis.append(char)\n",
    "    if tweet_emojis:\n",
    "        for emoji in tweet_emojis:\n",
    "            tweet_emoji_scores = []\n",
    "            try:\n",
    "                tweet_emoji_scores.append(emoji_scores[emoji])\n",
    "            except KeyError as e:\n",
    "                print('No emoji score for %s' % e)\n",
    "                continue\n",
    "            if tweet_emoji_scores:\n",
    "                if max(tweet_emoji_scores) == max(numpy.absolute(tweet_emoji_scores)):\n",
    "                    tweet_score = max(tweet_emoji_scores)\n",
    "                else:\n",
    "                    tweet_score = min(tweet_emoji_scores)\n",
    "                emoji_tweets.append([tweet, tweet_score])\n",
    "    \n",
    "print(emoji_tweets)"
   ]
  },
  {
   "cell_type": "code",
   "execution_count": 27,
   "metadata": {
    "collapsed": false
   },
   "outputs": [],
   "source": [
    "tweet_text= []\n",
    "for tweet in emoji_tweets:\n",
    "    tweet_text.append(tweet[0])\n",
    "    \n",
    "    \n",
    "def preprocessor(tweet):\n",
    "    \n",
    "    if tweet.startswith('RT'):\n",
    "        return ''\n",
    "    #remove accents\n",
    "    normalized = unicodedata.normalize('NFKD', tweet)\n",
    "    if normalized != tweet:\n",
    "        tweet = ''.join([c for c in normalized if not unicodedata.combining(c)])\n",
    "        \n",
    "    tweet = tweet.lower()\n",
    "    \n",
    "    #remove URLs\n",
    "    tweet = re.sub(r'https?:\\/\\/.*?(\\s|$)', '', tweet)\n",
    "    tweet = re.sub(r'@\\w*?(\\s|$)', '', tweet)\n",
    "    tweet = re.sub(r'#\\w*?(\\s|$)', '', tweet)\n",
    "    \n",
    "    #remove RT (retweet) - this doesn't seem to work since 'rt' is in the preprocessed data\n",
    "    # This is unnecessary if I remove them in the beginning of the preprocessor\n",
    "    tweet = re.sub('^rt\\s', '', tweet)\n",
    "    \n",
    "    #Note - the preprocessor already seems to be removing emojis - no need for extra code\n",
    "    \n",
    "    # Regularize apostrophes from different parts of unicode\n",
    "    tweet = re.sub('|'.join(['‘', '’', 'ʻ', 'ʼ']), '\\'', tweet)\n",
    "    \n",
    "    return tweet\n",
    "    \n"
   ]
  },
  {
   "cell_type": "code",
   "execution_count": 28,
   "metadata": {
    "collapsed": false
   },
   "outputs": [
    {
     "name": "stdout",
     "output_type": "stream",
     "text": [
      "['Hard', \"I'll\", 'as', 'respect', \"y'all\", 'Barack', 'none', 'https', 't']\n"
     ]
    }
   ],
   "source": [
    "def tokenizer(tweet): #Currently troubleshooting function\n",
    "    \n",
    "    tokens = []\n",
    "    token_pattern = '(^|(?!\\w).)((\\w|\\')+)\\W'\n",
    "    token_matches = re.finditer(token_pattern, tweet)\n",
    "    for token_match in token_matches:\n",
    "        tokens.append(token_match.group(2))\n",
    "    return tokens\n",
    "\n",
    "print(tokenizer(\"Hard pass...I'll give as much respect as y'all did Barack...none 😒 https://t.co/UJcr4mrZRA\"))"
   ]
  },
  {
   "cell_type": "code",
   "execution_count": 29,
   "metadata": {
    "collapsed": false
   },
   "outputs": [
    {
     "name": "stdout",
     "output_type": "stream",
     "text": [
      "['15a20', '174', '2013', '9', 'a', 'american', 'amo', 'amp', 'and', 'army', 'believe', 'bernard', 'bieber', 'bird', 'came', 'chocolate', 'cody', 'cold', 'company', 'cover', 'creditos', 'credits', 'cutest', 'deal', 'deals', 'despacito', 'despasito', 'diplo', 'dis', 'door', 'exactly', 'fav', 'favorite', 'feat', 'feeling', 'followed', 'follows', 'for', 'ft', 'fw', 'gostou', 'grown', 'happiest', 'happy', 'he', \"he's\", 'hhahaha', 'him', 'history', 'home', 'hyung', 'i', 'in', 'international', 'is', 'it', 'js', 'justin', 'kylie', 'legend', 'lie', 'life', 'like', 'listening', 'lmao', 'love', 'luis', 'm0', 'ma', 'magazine', 'major', 'mama', 'me', 'much', 'my', 'new', 'nj', 'not', 'old', 'on', 'our', 'pack', 'people', 'players', 'please', 'pm', 'poohed', 'poster', 'really', 'rt', 'runaway', 's', 'salvou', 'size', 'so', 'stop', 'suunshine', 't', 'that', 'the', 'tim', 'to', 'today', 'u', 'usar', 'wait', \"wasn't\", 'we', 'what', 'when', 'with', 'woah', 'worth', 'you']\n",
      "  (6, 39)\t1\n",
      "  (6, 106)\t1\n",
      "  (6, 14)\t1\n",
      "  (6, 109)\t2\n",
      "  (6, 78)\t1\n",
      "  (6, 91)\t1\n",
      "  (6, 64)\t1\n",
      "  (6, 90)\t1\n",
      "  (6, 63)\t1\n",
      "  (6, 44)\t1\n",
      "  (7, 39)\t1\n",
      "  (7, 106)\t1\n",
      "  (7, 14)\t1\n",
      "  (7, 109)\t2\n",
      "  (7, 78)\t1\n",
      "  (7, 91)\t1\n",
      "  (7, 64)\t1\n",
      "  (7, 90)\t1\n",
      "  (7, 63)\t1\n",
      "  (7, 44)\t1\n",
      "  (8, 39)\t1\n",
      "  (8, 106)\t1\n",
      "  (8, 14)\t1\n",
      "  (8, 109)\t2\n",
      "  (8, 78)\t1\n",
      "  :\t:\n",
      "  (321, 29)\t1\n",
      "  (321, 57)\t1\n",
      "  (322, 59)\t1\n",
      "  (322, 12)\t1\n",
      "  (323, 59)\t1\n",
      "  (323, 12)\t1\n",
      "  (324, 57)\t1\n",
      "  (325, 57)\t1\n",
      "  (328, 57)\t1\n",
      "  (332, 57)\t1\n",
      "  (335, 57)\t1\n",
      "  (339, 26)\t1\n",
      "  (339, 66)\t1\n",
      "  (339, 83)\t1\n",
      "  (339, 1)\t1\n",
      "  (339, 25)\t1\n",
      "  (339, 4)\t1\n",
      "  (339, 51)\t1\n",
      "  (339, 57)\t1\n",
      "  (341, 57)\t1\n",
      "  (342, 57)\t1\n",
      "  (344, 57)\t1\n",
      "  (346, 57)\t1\n",
      "  (350, 57)\t1\n",
      "  (351, 57)\t1\n"
     ]
    }
   ],
   "source": [
    "vectorizer = CountVectorizer(preprocessor=preprocessor, tokenizer=tokenizer) #Make binary?  Does this prevent it from picking up one word twice in a tweet?\n",
    "fit_tr = vectorizer.fit_transform(tweet_text)\n",
    "print(vectorizer.get_feature_names())\n",
    "print(fit_tr)\n",
    "#   for word in emoji_tweets.split(): #This and following line should be removed and use regex instead.  Follow Downloads/pak-paroubek.pdf for preprocessing ideas, as well as downloads that were downloaded at a similar time\n",
    "#      if word[0:4] == 'http':\n",
    "            \n",
    "#CountVectorizer().build_tokenizer()(tweet_text) #stop_words param to 'english' once you have only Eng tweets, this was indented within for loop at the beginning of August"
   ]
  },
  {
   "cell_type": "code",
   "execution_count": 15,
   "metadata": {
    "collapsed": false,
    "scrolled": true
   },
   "outputs": [],
   "source": [
    "transformer = TfidfTransformer()  # This block is not correct\n",
    "tfidf = transformer.fit_transform(fit_tr)"
   ]
  },
  {
   "cell_type": "code",
   "execution_count": 17,
   "metadata": {
    "collapsed": false
   },
   "outputs": [
    {
     "name": "stdout",
     "output_type": "stream",
     "text": [
      "<class 'numpy.ndarray'>\n",
      "[ 0.80821918  0.8630137   0.79452055  0.70833333  0.83333333]\n"
     ]
    }
   ],
   "source": [
    "    tweet_emos = []\n",
    "    for tweet in emoji_tweets:\n",
    "        tweet_emos.append(tweet[1] > 0)\n",
    "        \n",
    "    \n",
    "    #Cross-validation\n",
    "    from sklearn.model_selection import cross_val_score\n",
    "    print(type(tfidf.toarray()))\n",
    "          \n",
    "    scores = cross_val_score(MultinomialNB(alpha=.01), tfidf, tweet_emos, cv=5) #this takes forever at cv=10\n",
    "    print(scores)  \n",
    "    \n",
    "    "
   ]
  },
  {
   "cell_type": "code",
   "execution_count": 28,
   "metadata": {
    "collapsed": false
   },
   "outputs": [
    {
     "name": "stdout",
     "output_type": "stream",
     "text": [
      "________________________________________________________________________________\n",
      "Training: \n"
     ]
    },
    {
     "ename": "NameError",
     "evalue": "name 'clf' is not defined",
     "output_type": "error",
     "traceback": [
      "\u001b[0;31m---------------------------------------------------------------------------\u001b[0m",
      "\u001b[0;31mNameError\u001b[0m                                 Traceback (most recent call last)",
      "\u001b[0;32m<ipython-input-28-cea2c00434b9>\u001b[0m in \u001b[0;36m<module>\u001b[0;34m()\u001b[0m\n\u001b[1;32m      3\u001b[0m \u001b[0mprint\u001b[0m\u001b[0;34m(\u001b[0m\u001b[0;34m'_'\u001b[0m \u001b[0;34m*\u001b[0m \u001b[0;36m80\u001b[0m\u001b[0;34m)\u001b[0m\u001b[0;34m\u001b[0m\u001b[0m\n\u001b[1;32m      4\u001b[0m \u001b[0mprint\u001b[0m\u001b[0;34m(\u001b[0m\u001b[0;34m\"Training: \"\u001b[0m\u001b[0;34m)\u001b[0m\u001b[0;34m\u001b[0m\u001b[0m\n\u001b[0;32m----> 5\u001b[0;31m \u001b[0mprint\u001b[0m\u001b[0;34m(\u001b[0m\u001b[0mclf\u001b[0m\u001b[0;34m)\u001b[0m\u001b[0;34m\u001b[0m\u001b[0m\n\u001b[0m\u001b[1;32m      6\u001b[0m \u001b[0mt0\u001b[0m \u001b[0;34m=\u001b[0m \u001b[0mtime\u001b[0m\u001b[0;34m(\u001b[0m\u001b[0;34m)\u001b[0m\u001b[0;34m\u001b[0m\u001b[0m\n\u001b[1;32m      7\u001b[0m \u001b[0mMultinomialNB\u001b[0m\u001b[0;34m(\u001b[0m\u001b[0malpha\u001b[0m\u001b[0;34m=\u001b[0m\u001b[0;36m.01\u001b[0m\u001b[0;34m)\u001b[0m\u001b[0;34m.\u001b[0m\u001b[0mfit\u001b[0m\u001b[0;34m(\u001b[0m\u001b[0mX_train\u001b[0m\u001b[0;34m,\u001b[0m \u001b[0my_train\u001b[0m\u001b[0;34m)\u001b[0m\u001b[0;34m\u001b[0m\u001b[0m\n",
      "\u001b[0;31mNameError\u001b[0m: name 'clf' is not defined"
     ]
    }
   ],
   "source": [
    "    \n",
    "    \n",
    "    print('_' * 80)\n",
    "    print(\"Training: \")\n",
    "    print(clf)\n",
    "    t0 = time()\n",
    "    MultinomialNB(alpha=.01).fit(X_train, y_train)\n",
    "    train_time = time() - t0\n",
    "    print(\"train time: %0.3fs\" % train_time)"
   ]
  },
  {
   "cell_type": "code",
   "execution_count": null,
   "metadata": {
    "collapsed": true
   },
   "outputs": [],
   "source": []
  }
 ],
 "metadata": {
  "kernelspec": {
   "display_name": "Python 3",
   "language": "python",
   "name": "python3"
  },
  "language_info": {
   "codemirror_mode": {
    "name": "ipython",
    "version": 3
   },
   "file_extension": ".py",
   "mimetype": "text/x-python",
   "name": "python",
   "nbconvert_exporter": "python",
   "pygments_lexer": "ipython3",
   "version": "3.6.0"
  }
 },
 "nbformat": 4,
 "nbformat_minor": 2
}
