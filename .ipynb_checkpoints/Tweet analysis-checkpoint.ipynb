{
 "cells": [
  {
   "cell_type": "code",
   "execution_count": 1,
   "metadata": {
    "collapsed": true
   },
   "outputs": [],
   "source": [
    "import json\n",
    "import oauth2 as oauth\n",
    "import os\n",
    "import emoji as emo\n",
    "import urllib.parse as parse\n",
    "import csv\n",
    "from sklearn.feature_extraction.text import CountVectorizer\n",
    "from string import punctuation\n",
    "import numpy\n",
    "import pymongo\n",
    "import re\n",
    "import unicodedata\n",
    "from sklearn.feature_extraction.text import TfidfTransformer\n",
    "from sklearn.naive_bayes import BernoulliNB, MultinomialNB"
   ]
  },
  {
   "cell_type": "code",
   "execution_count": 2,
   "metadata": {
    "collapsed": false
   },
   "outputs": [],
   "source": [
    "# This function will use an online ready-made dictionary to find the sentiment of an emoji\n",
    "\n",
    "emoji_scores = {}\n",
    "with open('Emoji_Sentiment_Data_v1.0.csv', newline = '') as emoji_csv:\n",
    "    emoji_reader = csv.reader(emoji_csv)\n",
    "    next(emoji_reader, None)\n",
    "    for row in emoji_reader:\n",
    "        emoji = row[0]\n",
    "        neg_score = float(int(row[4])/int(row[2]))\n",
    "        neut_score = float(int(row[5])/int(row[2]))\n",
    "        pos_score = float(int(row[6])/int(row[2]))\n",
    "        sent_score = (-1 * neg_score + pos_score) - .305\n",
    "        emoji_scores[emoji] = sent_score"
   ]
  },
  {
   "cell_type": "code",
   "execution_count": 3,
   "metadata": {
    "collapsed": true
   },
   "outputs": [],
   "source": [
    "consumer_key = os.environ.get('CONSUMER_KEY')\n",
    "consumer_secret = os.environ.get('CONSUMER_SECRET')\n",
    "\n",
    "access_token = os.environ.get('ACCESS_TOKEN')\n",
    "access_token_secret = os.environ.get('ACCESS_TOKEN_SECRET')\n",
    "\n",
    "consumer = oauth.Consumer(key=consumer_key, secret=consumer_secret)\n",
    "access_token = oauth.Token(key=access_token, secret=access_token_secret)\n",
    "client = oauth.Client(consumer, access_token)"
   ]
  },
  {
   "cell_type": "code",
   "execution_count": 4,
   "metadata": {
    "collapsed": true
   },
   "outputs": [],
   "source": [
    "# Text retrieval\n",
    "mongo_uri = 'mongodb://heroku_xgnhblcr:' + os.environ.get('MONGODB_PASSWORD') + '@ds149511.mlab.com:49511/heroku_xgnhblcr'\n",
    "client = pymongo.MongoClient(mongo_uri)\n",
    "db = client.get_default_database()\n",
    "myresults = list(db.Justin_Bieber.find())"
   ]
  },
  {
   "cell_type": "code",
   "execution_count": 5,
   "metadata": {
    "collapsed": false
   },
   "outputs": [],
   "source": [
    "# Text preprocessing\n",
    "tweets = []\n",
    "emoji_tweets = set()\n",
    "for entry in myresults:\n",
    "    tweets.append(entry['text'])\n",
    "for tweet in tweets:\n",
    "    tweet_emojis = []\n",
    "    for char in tweet:\n",
    "        if char in emo.UNICODE_EMOJI:\n",
    "            tweet_emojis.append(char)\n",
    "    if tweet_emojis:\n",
    "        for emoji in tweet_emojis:\n",
    "            tweet_emoji_scores = []\n",
    "            try:\n",
    "                tweet_emoji_scores.append(emoji_scores[emoji]) # emoji_scores from emoji dictionary\n",
    "            except KeyError as e: # Some emojis are not in the emoji dictionary - these are ignored\n",
    "                continue\n",
    "                \n",
    "            # Assigns the tweet an emoji score corresponding to the emoji with a score furthest from zero\n",
    "            if tweet_emoji_scores:\n",
    "                if max(tweet_emoji_scores) == max(numpy.absolute(tweet_emoji_scores)):\n",
    "                    tweet_score = max(tweet_emoji_scores)\n",
    "                else:\n",
    "                    tweet_score = min(tweet_emoji_scores)\n",
    "                emoji_tweets_element = tweet, tweet_score\n",
    "                emoji_tweets.add(emoji_tweets_element)"
   ]
  },
  {
   "cell_type": "code",
   "execution_count": 6,
   "metadata": {
    "collapsed": true
   },
   "outputs": [],
   "source": [
    "# Remove retweets (starting with \"RT\")\n",
    "# emoji_tweets must be a list of arbitrary order to be fed into the classifier\n",
    "# Note that emoji_tweets was originally a set, in order to remove duplicates\n",
    "emoji_tweets = [tweet for tweet in emoji_tweets if not tweet[0].startswith('RT')]\n",
    "\n",
    "tweet_text = [tweet[0] for tweet in emoji_tweets]\n",
    "    "
   ]
  },
  {
   "cell_type": "code",
   "execution_count": 7,
   "metadata": {
    "collapsed": false
   },
   "outputs": [
    {
     "name": "stdout",
     "output_type": "stream",
     "text": [
      "14964\n"
     ]
    }
   ],
   "source": [
    "print(len(emoji_tweets)) #This is the number of tweets containing emojis that are not duplicates and not retweets"
   ]
  },
  {
   "cell_type": "code",
   "execution_count": 8,
   "metadata": {
    "collapsed": false
   },
   "outputs": [],
   "source": [
    "def preprocessor(tweet):\n",
    "    \n",
    "    # Removes accents\n",
    "    normalized = unicodedata.normalize('NFKD', tweet)\n",
    "    if normalized != tweet:\n",
    "        tweet = ''.join([c for c in normalized if not unicodedata.combining(c)])\n",
    "        \n",
    "    tweet = tweet.lower()\n",
    "    \n",
    "    # Remove URLs\n",
    "    tweet = re.sub(r'https?:\\/\\/.*?(\\s|$)', '', tweet)\n",
    "    \n",
    "    tweet = re.sub(r'@\\w*?(\\s|$)', '', tweet)\n",
    "    \n",
    "    tweet = re.sub(r'#\\w*?(\\s|$)', '', tweet)\n",
    "    \n",
    "    # Note - the preprocessor already seems to be removing emojis - no need for extra code to do this\n",
    "    \n",
    "    # Regularize apostrophes from different parts of unicode\n",
    "    tweet = re.sub('|'.join(['‘', '’', 'ʻ', 'ʼ']), '\\'', tweet)\n",
    "    \n",
    "    return tweet\n",
    "    "
   ]
  },
  {
   "cell_type": "code",
   "execution_count": 19,
   "metadata": {
    "collapsed": false
   },
   "outputs": [
    {
     "name": "stdout",
     "output_type": "stream",
     "text": [
      "['hard', 'pass', \"i'll\", 'give', 'as', 'much', 'respect', 'as', \"y'all\", 'did', 'barack', 'none']\n"
     ]
    }
   ],
   "source": [
    "def tokenizer(tweet, verbose = False):\n",
    "    \n",
    "    tokens = []\n",
    "    token_pattern = '(?=(^|(?!(\\w|\\')).)((\\w|\\')+)\\W)'\n",
    "    token_matches = re.finditer(token_pattern, tweet)\n",
    "    for token_match in token_matches:\n",
    "        if verbose:\n",
    "            print(token_match)\n",
    "        tokens.append(token_match.group(3))\n",
    "    return tokens\n",
    "\n",
    "print(tokenizer(preprocessor(\"Hard pass...I'll give as much respect as y'all did Barack...none 😒 https://t.co/UJcr4mrZRA\")))"
   ]
  },
  {
   "cell_type": "code",
   "execution_count": 14,
   "metadata": {
    "collapsed": false,
    "scrolled": true
   },
   "outputs": [],
   "source": [
    "vectorizer = CountVectorizer(preprocessor=preprocessor, tokenizer=tokenizer, binary = True)\n",
    "fit_tr = vectorizer.fit_transform(tweet_text)\n",
    "# print(vectorizer.get_feature_names()) # Returns a list of all the words in all tweets (with emojis)"
   ]
  },
  {
   "cell_type": "code",
   "execution_count": 15,
   "metadata": {
    "collapsed": false,
    "scrolled": true
   },
   "outputs": [
    {
     "name": "stderr",
     "output_type": "stream",
     "text": [
      "/Users/Abe/anaconda3/lib/python3.6/site-packages/sklearn/feature_extraction/text.py:1059: FutureWarning: Conversion of the second argument of issubdtype from `float` to `np.floating` is deprecated. In future, it will be treated as `np.float64 == np.dtype(float).type`.\n",
      "  if hasattr(X, 'dtype') and np.issubdtype(X.dtype, np.float):\n"
     ]
    }
   ],
   "source": [
    "# This block is not currently used later in this notebook because binary is True in CountVectorizer\n",
    "transformer = TfidfTransformer()\n",
    "tfidf = transformer.fit_transform(fit_tr)"
   ]
  },
  {
   "cell_type": "code",
   "execution_count": 16,
   "metadata": {
    "collapsed": false
   },
   "outputs": [
    {
     "name": "stdout",
     "output_type": "stream",
     "text": [
      "MNB accuracy : [0.56613226 0.55763448 0.5606415  0.54278075 0.55180481]\n",
      "MNB F-score: [0.52524635 0.5161027  0.51761293 0.5019726  0.51154371]\n"
     ]
    }
   ],
   "source": [
    "# Tweets must have arbitrary order to be used with Multinomial NB\n",
    "\n",
    "three_class = True # Set to False to reduce number of classes to two\n",
    "threshold = 0.15 # If three classes, will set the range of the \"neutral\" class to -threshold to threshold\n",
    "# Set to try to override the emoji score of the emoji \"tears of joy\" and make it negative\n",
    "# This can be done if it is believed that users are using the \"tears of joy\" emoji for negative sentiment\n",
    "tears_joy_neg = False\n",
    "\n",
    "tweet_emos = []\n",
    "for tweet in emoji_tweets:\n",
    "    if tears_joy_neg and numpy.absolute(tweet[1] + 0.084) < 0.01:\n",
    "        tweet_emos.append('neg')\n",
    "        continue\n",
    "    if three_class:\n",
    "        if tweet[1] < -1*threshold:\n",
    "            tweet_emos.append('neg')\n",
    "        elif tweet[1] > threshold:\n",
    "            tweet_emos.append('pos')\n",
    "        else:\n",
    "            tweet_emos.append('neu')\n",
    "    else:\n",
    "        tweet_emos.append(tweet[1] > 0)\n",
    "        \n",
    "    \n",
    "# Cross-validation\n",
    "from sklearn.model_selection import cross_val_score\n",
    "          \n",
    "# This takes a long time at cv=10, changed tfidf to fit_tf while binary in CountVectorizer is True    \n",
    "scores = cross_val_score(MultinomialNB(alpha=.01), fit_tr, tweet_emos, cv=5)\n",
    "print('MNB accuracy : %s' % scores)\n",
    "\n",
    "# Accounts for the fact most tweets are positive anyway, so accuracy is not the best metric of model performance\n",
    "scores2 = cross_val_score(MultinomialNB(alpha=.01), fit_tr, tweet_emos, cv=5, scoring = 'f1_macro')\n",
    "print('MNB F-score: %s' % scores2)\n",
    "\n",
    "# For three classes, these scores should be above .333 to indicate performance than randomly guessing sentiment\n",
    "# For two classes, the scores should be above .5"
   ]
  },
  {
   "cell_type": "code",
   "execution_count": 17,
   "metadata": {
    "collapsed": false
   },
   "outputs": [
    {
     "name": "stdout",
     "output_type": "stream",
     "text": [
      "Positive prediction: [[0.13977664 0.12565331 0.73457005]]\n",
      "Neutral predication: [[0.53826463 0.37636321 0.08537216]]\n",
      "Negative prediction: [[0.71088329 0.21909802 0.0700187 ]]\n"
     ]
    }
   ],
   "source": [
    "clf = MultinomialNB(alpha = .01)\n",
    "clf.fit(fit_tr, tweet_emos)\n",
    "\n",
    "# Fake tweets to test model\n",
    "\n",
    "positive_tweet = \"I love Justin Bieber. He is amazing!\"\n",
    "positive_tweet_vector = vectorizer.transform([positive_tweet])\n",
    "\n",
    "neutral_tweet = \"There are many people here.\"\n",
    "neutral_tweet_vector = vectorizer.transform([neutral_tweet])\n",
    "\n",
    "negative_tweet = \"I hate Justin Bieber.  He sucks!\"\n",
    "negative_tweet_vector = vectorizer.transform([negative_tweet])\n",
    "\n",
    "# Predictions are [[(Probability tweet is negative) (Probability of neutral) (Probability of positive)]]\n",
    "numpy.set_printoptions(suppress=True)\n",
    "print('Positive prediction: %s' % clf.predict_proba(positive_tweet_vector))\n",
    "print('Neutral predication: %s' % clf.predict_proba(neutral_tweet_vector))\n",
    "print('Negative prediction: %s' % clf.predict_proba(negative_tweet_vector))"
   ]
  },
  {
   "cell_type": "code",
   "execution_count": null,
   "metadata": {
    "collapsed": true
   },
   "outputs": [],
   "source": []
  }
 ],
 "metadata": {
  "kernelspec": {
   "display_name": "Python 3",
   "language": "python",
   "name": "python3"
  },
  "language_info": {
   "codemirror_mode": {
    "name": "ipython",
    "version": 3
   },
   "file_extension": ".py",
   "mimetype": "text/x-python",
   "name": "python",
   "nbconvert_exporter": "python",
   "pygments_lexer": "ipython3",
   "version": "3.6.0"
  }
 },
 "nbformat": 4,
 "nbformat_minor": 2
}
